{
 "cells": [
  {
   "cell_type": "markdown",
   "id": "ac88875f-6f85-4b03-ae06-245e44729383",
   "metadata": {},
   "source": [
    "**Authors**: Malthe D. Andersen (s194257), Yucheng Fu (s194241), Andreas Høst (s194238)"
   ]
  },
  {
   "cell_type": "code",
   "execution_count": null,
   "id": "6dac2d37-9502-4f58-b726-8e632beee333",
   "metadata": {},
   "outputs": [],
   "source": [
    "#packages"
   ]
  },
  {
   "cell_type": "markdown",
   "id": "4baf8309-7073-4792-9651-44a9accc6820",
   "metadata": {},
   "source": [
    "# Scraping the data"
   ]
  },
  {
   "cell_type": "markdown",
   "id": "b1c1d3b9-158f-4ddc-b345-5f023f61b3ae",
   "metadata": {},
   "source": [
    "# Network"
   ]
  },
  {
   "cell_type": "markdown",
   "id": "227036bd-737e-47a3-a2fa-01427b7c3011",
   "metadata": {},
   "source": [
    "## Creating the network"
   ]
  },
  {
   "cell_type": "markdown",
   "id": "e8c16603-8ef1-48a4-bd41-2a7b083d7e7a",
   "metadata": {},
   "source": [
    "## Graphing"
   ]
  },
  {
   "cell_type": "markdown",
   "id": "ddae4c3b-474c-4cb1-8bc2-ad7d63294370",
   "metadata": {},
   "source": [
    "## Importance"
   ]
  },
  {
   "cell_type": "markdown",
   "id": "2b73337c-c002-415b-91bf-093829e5aaf4",
   "metadata": {},
   "source": [
    "# Sentiment analysis"
   ]
  },
  {
   "cell_type": "code",
   "execution_count": null,
   "id": "bd5802a9-fd2d-44b4-9732-508e8b7d9f05",
   "metadata": {},
   "outputs": [],
   "source": []
  }
 ],
 "metadata": {
  "kernelspec": {
   "display_name": "Python 3 (ipykernel)",
   "language": "python",
   "name": "python3"
  },
  "language_info": {
   "codemirror_mode": {
    "name": "ipython",
    "version": 3
   },
   "file_extension": ".py",
   "mimetype": "text/x-python",
   "name": "python",
   "nbconvert_exporter": "python",
   "pygments_lexer": "ipython3",
   "version": "3.9.7"
  }
 },
 "nbformat": 4,
 "nbformat_minor": 5
}
