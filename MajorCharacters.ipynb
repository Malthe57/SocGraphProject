{
 "cells": [
  {
   "cell_type": "code",
   "execution_count": 53,
   "metadata": {},
   "outputs": [],
   "source": [
    "from urllib.request import urlopen\n",
    "from bs4 import BeautifulSoup\n",
    "import pandas as pd\n",
    "import requests\n",
    "import mwparserfromhell\n",
    "import urllib.request\n",
    "import json\n",
    "import re\n",
    "\n",
    "url = \"https://wowpedia.fandom.com/wiki/Major_characters\"\n",
    "html = urlopen(url).read()\n",
    "soup = BeautifulSoup(html, features=\"html.parser\")\n",
    "\n"
   ]
  },
  {
   "cell_type": "code",
   "execution_count": 42,
   "metadata": {},
   "outputs": [],
   "source": [
    "characters = []\n",
    "\n",
    "games = ['WC1','WC2','WC2X','WC3','WC3X','WoW','WoWBC','WoWWotLK','WoWC','WoWMoP','WoWWoD','WoWL','WoWBfA','WoWS','WoWD']\n",
    "\n",
    "for s in soup.find_all('p'):\n",
    "    text = s.text\n",
    "    if \"—\" in text:\n",
    "        \n",
    "        d = {}\n",
    "        \n",
    "        t = text.replace(\"\\n\", \"\").split(\"—\")\n",
    "\n",
    "        name = t[0].strip().replace(\" \", \"_\") #.replace(\" \", \"\")\n",
    "\n",
    "        expansions = t[1].replace(\" \", \"\").split(\",\")\n",
    "        expansions = [1 if i in expansions else 0 for i in games]\n",
    "        \n",
    "        if 1 in expansions:\n",
    "            d['name'] = name\n",
    "            for i,g in enumerate(games):\n",
    "                d[g] = expansions[i]\n",
    "                \n",
    "            characters.append(d)\n"
   ]
  },
  {
   "cell_type": "code",
   "execution_count": 43,
   "metadata": {},
   "outputs": [],
   "source": [
    "df = pd.DataFrame(characters)"
   ]
  },
  {
   "cell_type": "code",
   "execution_count": 44,
   "metadata": {},
   "outputs": [
    {
     "data": {
      "text/plain": [
       "'{{Foralt}}\\n{{npcbox\\n| name = Terokk\\n| image = Terokk.jpg\\n| titles = The Talon King\\n| gender = Male\\n| level = 72\\n| type = Elite\\n| race = Arakkoa\\n| creature = Undead\\n| faction = Combat\\n| aggro = {{aggro|-1|-1}}\\n| foccupation = Talon King of the Arakkoa, King of the Outcasts and Founder of Skettis\\n| status = Deceased (lore)<br/> Killable {{bc-inline}}\\n| location = [[Terokk\\'s Rest]] in [[Skettis]], [[Terokkar Forest]]\\n| relatives = [[Lithic]] (daughter)\\n}}\\n\\n\\'\\'\\'Terokk\\'\\'\\' was the greatest king of the [[arakkoa]]. Terokk was associated with the goddess [[Rukhmar]] and believed to be her incarnation, though this was not actually the case. Terokk was the arakkoa\\'s greatest hero who was betrayed by his own allies and afflicted with the Curse of Sethe. Even in this state, however, he sought to aid his fellow refugees by building the city of [[Skettis]] with his own claws. However the curse soon began to drive him to madness, and he was sealed away by his Talonpriests in the hopes of rejuvenating him. He now waits in the shadows to be called back into the physical world and face the enemies of his people. \\n\\nThe heretical [[Talon King Ikiss]] claims he is Terokk returned. \\n\\nTerokk also has an avatar in the form of a gigantic [[kaliri]], unleashed on Shattrath when all of his plans are thwarted by adventurers at the behest of the Skettis refugees of the [[Lower City]]. \\n\\n==Biography==\\n===On Draenor===\\n[[File:Terrok Battle.png|thumb|left|Terokk doing battle with the Bloodmane saberon, before becoming cursed.]]\\n[[Image:Avatar of Terokk.jpg|thumb|The Avatar of Terokk]]\\nSix hundred years before the opening of the [[Dark Portal]],<ref name=\"Chronicle44-46\">\\'\\'[[World of Warcraft: Chronicle Volume 2]]\\'\\', pg. 44 - 46</ref> Talon King Terokk was an ancient king of the arakkoa of the [[spires of Arak]]. He was beloved by the people and would often wear a mask to walk among them in hiding.<ref>[[Hidden in Plain Sight]]</ref> The closest individual to Terokk was his daughter [[Lithic]], who crafted a golden bangle for him that he always wore. He shared power with an order of priests called the Anhar.<ref name=\"Chronicle44-46\"/>\\n\\nTerokk had many enemies, among them [[Warp Stalker|stalkers]], [[Wind Serpent|wind serpents]], [[Colossus|colossi]], and even fellow arakkoa.<ref>[[Adversarial Blood]]</ref> One enemy in particular was [[Pridelord Karash]] of the [[Bloodmane tribe|Bloodmane]] [[saberon]], who once declared war against the arakkoa. His torment of the arakkoa caused them to wonder why their sun goddess [[Rukhmar]] had seemingly withdrawn her favor.<ref name=\"Chronicle44-46\"/> Rather than send his troops, Terokk arrived to the battlefield in person and slaughtered most of the saberon.<ref>[[The Talon King]]</ref> Terokk\\'s victory over [[Pridelord Karash]] caused the arakkoa to celebrate Terokk as a living legend. Indeed, they even claimed him to be Rukhmar\\'s reincarnation. The Anhari priesthood began to grow nervous, for up until this point they alone had been allowed to speak in the sun goddess\\'s name. Terokk used his widespread support to build a new city, [[Skyreach]], that called back to the accomplishments of the ancient [[Apexis]]. He created new laws restricting the authority of the Anhar order, declaring that high arakkoan society must be guided by a thirst for knowledge and wisdom, not by fear and superstition.<ref name=\"Chronicle44-46\"/>\\n\\nBut however much his people loved and respected Terokk, the Anhari at Skyreach were jealous of him. Hungry for control, they conspired against Terokk and tossed both him and his daughter Lithic into the pools at [[Sethekk Hollow]], which were formed eons ago in the death of the primal god [[Sethe]]. While Terokk survived the fall, Lithic did not; in his despair, Terokk surrendered to the darkness as his body withered and contorted, transforming Terokk into a flightless shadow of his former self. From that day forward Skyreach would be ruled not by a king but by the Anhari, now calling themselves the [[Adherents of Rukhmar]]. \\n\\nA presence called Terokk from the brink of despair, however. [[Anzu]], the great [[dread raven]] god, urged Terokk forward. Now mutated and flightless but with powers of darkness, Terokk moved forward and rallied his fellow broken arakkoa who the Adherents had also tossed into the pools. They moved through the Sethekk Hollow until they came across [[The Eye of Anzu]] and met Anzu for the first time.\\n\\nAnzu gifted Terokk and his followers [[Void|dark]] powers and [[arcane]] sorcery.<ref name=\"Chronicle44-46\"/> In time, they would come to be known as [[Talonpriest]]s. Together, Terokk, Anzu, and the Talonpriests would build the refuge city of [[Skettis]] among Apexis ruins<ref name=\"Chronicle44-46\"/> and protect the unwanted children of Rukhmar: the [[Arakkoa Outcasts]]. The regions of [[Talador]] near to the Spires of Arak came under their control and became known as [[Terokkar Forest]].<ref name=\"Chronicle44-46\"/>\\n\\nWhen the winged arakkoa learned of the results of Terokk\\'s exile, rumors of his cursed state swept like wildfire through the arakkoa, giving rise to superstitious charms and cures.<ref>[[Dreamcatcher]]</ref> Eschewing traditional arakkoan weaponry, Terokk carried a cudgel as a symbol of his fall from king to outcast heretic. Rumors have persisted for centuries that rather than employing traditional wing-cutting as a punishment, Terokk simply shattered the beaks of those who dared to oppose him.<ref>[[Beakbreaker of Terokk]]</ref>\\n\\nAs the years went on Terokk\\'s health declined, grief tore at his heart, and Sethe\\'s curse chewed at his mind. He began to hate the world, abandoning Skettis and even sacrificing the lower castes<ref>[[Hazzik\\'s Bargain]]</ref> of his own people to dark powers in search of a cure.<ref name=\"Fall\">[[Reshad]]\\'s dialogue after turning in [[Terokk\\'s Fall]]</ref> The arakkoa did not seem to know the reason for this abandonment and attributed it to them turning away from the worship of Rukhmar.<ref name=\"Isfar\">[[Isfar]]</ref> Hoping to rejuvenate their king, the Talonpriests sealed Terokk away in the shadows. All that was left of Terokk were several artifacts he left behind.<ref name=\"Fall\"/> But Terokk was foretold to return some day.<ref>[[Countdown to Doom]]</ref>\\n\\n===The Burning Crusade===\\n{{bc-section}}\\nTerokk seemingly surrendered completely to the madness of the Curse of Sethe during his long imprisonment in the shadows, and by the time of the War in Outland his minions worked in his name to commit evils throughout Terokkar Forest. At [[Veil Shienor]] and [[Veil Reskk]], the Eyes of Skettis allowed Terokk to spy on those areas.<ref>[[The Eyes of Skettis]]</ref> At [[Veil Skith]], the arakkoa used the [[Darkstone of Terokk]] as an altar of worship.<ref>[[Veil Skith: Darkstone of Terokk]]</ref> At [[Veil Rhaze]], the spirits of arakkoa slain in the Auchindoun explosion remained with Terokk\\'s influence remaining on them.<ref>[[Veil Rhaze: Unliving Evil]]</ref> At [[Veil Lithic]], his minions corrupted [[kaliri]] into his service.<ref>[[Veil Lithic: Preemptive Strike]]</ref> At [[Veil Shalas]], the closest colony to Skettis, the arakkoa [[sage]]s conducted wars against the Light.<ref>[[Veil Shalas: Signal Fires]]</ref>\\n\\nSome arakkoa, such as [[Kirrik the Awakened]] and [[Rilak the Redeemed]], believe that Terokk is a false prophet who will lead them to their doom. These [[Skettis Exiles]] moved to [[Shattrath City]] and face the forces of Terokk in the name of the [[Light]].<ref>[[Seek Out Kirrik]]</ref> Meanwhile, the heretical [[Talon King Ikiss]] believes himself to be Terokk reborn and leads the [[Sethekk]] cult in the [[Sethekk Halls]].<ref>[[Talon King Ikiss]] dungeon journal</ref>\\n\\nBut deep inside Skettis, the arakkoa continue their battles against all who oppose them. The [[Sha\\'tari Skyguard]], a group of Sha\\'tari flyers, have a base at Blackwind Landing, just outside of the Blackwind Valley where Skettis is located. On [[Terokk\\'s Rest|an island in the middle of Blackwind Lake]], Terokk awaited the proper alignment of the stars to herald his return. Working with [[Hazzik]], adventurers summoned the maddened husk of the Talon King before he was ready and ended the once mighty arakkoa\\'s life.<ref>[[Terokk\\'s Downfall]]</ref>\\n\\n==Objective of==\\n* [[Terokk\\'s Downfall]]\\n\\n==Quests==\\n[[Terokk\\'s Rest]], a massive summoning circle with an [[Ancient Skull Pile]] in the center, is located at the center of [[Blackwind Lake]] in the heart of [[Skettis]]. In Patch 2.1, a questline was introduced that in the end requires the player to summon Terokk himself at this location and destroy him once and for all. The final quest is [[Terokk\\'s Downfall]].\\n\\n==Terokk\\'s ancient enemies==\\nTerokk, be he [[god]] or [[mortal]], is said to have had many enemies in the past. It is not certain if these enemies were groups led by the individuals (more likely as many were sacrificed to dark powers when Terokk sought a cure to the curse), or just the individuals, of the following races who were his enemies: an Arakkoa, a [[Colossus]], a [[Warp Stalker]], and a [[Wind Serpent]]. Their descendants are being held prisoner by Skettis talonpriests who are likely waiting to kill them at the right time since Terokk himself says, when defeated, \"The stars are not yet aligned...my powers fail me!\" due to being summoned prematurely. In the quest [[A Shabby Disguise|A Shabby Disguise]], it is prophesied that their demise will be followed by Terokk\\'s return. Apparently, when his enemies and any of their descendants are finally gone, he has the power to return.\\n\\n==Defeating Terokk==\\nTerokk has the following abilities:\\n\\n*\\'\\'\\'Shadowbolt Volley\\'\\'\\': Does about 1.8k Shadow damage to everyone in his vicinity. A paladin\\'s shadow resistance aura or a priest\\'s shadow protection can help to counter this.\\n\\n*\\'\\'\\'Chosen One\\'\\'\\': One person on his aggro list is made the chosen one for about 10 seconds, increasing his size, damage and healing while everyone else\\'s damage and healing is decreased.\\n\\n*\\'\\'\\'Immunity Shield\\'\\'\\': At 25% health he raises a shield that makes him 100% immune to all physical and magical attacks. To shatter the shield you have to drag him to the \"blue smoke markers\" where the Sha\\'tari Skyguard will drop bombs. When his shield is down he will go into a \\'\\'\\'Frenzy\\'\\'\\', increasing his damage and the frequency of his shadowbolt volleys. Throw everything you got at him when his shield is down. After a few seconds he will raise his immunity shield again. Simply repeat until he is dead. The tank can already pull him towards another near marker while the shield is down, if present. It is rather tricky to lure him into the upcoming fire and not get the dot as well, so don\\'t waste your time running around the marker, just go through.\\n\\n*\\'\\'\\'Frenzy\\'\\'\\': Increases the casters attack speed by 50% and the physical damage it deals by 100% for 10 min.\\n\\n== The relics of Terokk ==\\nTerokk was once revered by the arakkoa people, but one day mysteriously vanished, leaving his three artifacts behind: His spear, his mask and his writings. All were taken by the renegades of the Sethekk, led by the [[Talon King Ikiss]]. All three drop as quest items, but only one can be chosen as a quest reward.\\n*[[The Relics of Terokk]]\\n**{{loot|rare|Terokk\\'s Quill}}: Terokk\\'s spear. The stats of this weapon make it an ideal weapon for hunters. The spear is held by [[Talon King Ikiss]].\\n**{{loot|rare|Terokk\\'s Mask}}: The mask of Terokk provides increased attack power and dodge rating, ideal for rogues and feral druids. The mask is held by [[Darkweaver Syth]].\\n**{{loot|rare|The Saga of Terokk (off-hand)|The Saga of Terokk}}: Terokk\\'s book is a powerful tome that increases spell damage and healing. It is located in some kind of ritual circle in the room before Talon King Ikiss.\\n\\n==Quotes==\\n;Summoned\\n:{{text|say|Who calls me to this world? The stars are not yet aligned... my powers fail me! You will pay for this!}}\\n\\n;Makes a player the Chosen One\\n:{{text|yell|Show me how tough you are, <name>!}}\\n\\n;Uses Immunity Shield\\n:{{text|yell|Kwa! You cannot kill me, I am immortal!}}\\n\\n==Drops==\\n*{{loot|epic|Terokk\\'s Wisdom}}\\n*{{loot|epic|Terokk\\'s Might}}\\n*{{loot|rare|Terokk\\'s Gavel}}\\n*{{loot|rare|Gift of the Talonpriests}}\\n*{{loot|rare|Brooch of the Immortal King}}\\n*{{loot|rare|Skystalker\\'s Leggings}}\\n*{{loot|rare|Slatesteel Leggings}}\\n*{{loot|rare|Time-Lost Figurine}}\\n\\n==Time-Lost Figurine==\\nA must-have drop from this mob is called the [[Time-Lost Figurine]], used to turn their character temporarily into a Arakkoa. While in this form going into combat does not change the player back, making this a fun and near must-have for many players. The difficulty, length, and rareness of obtaining the item however make it so players with it are scarce.\\n\\n<gallery>\\nTime-Lost Figurine.jpg|A player in Armored Arakkoa form.\\nTime-Lost Figurine3.jpg|A player in Magi Arakkoa form.\\nTime-Lost Figurine2.jpg|A player in a normal, purple Arakkoa form.\\n</gallery>\\n\\n==Patch changes==\\n*{{Patch 2.1.0|note=Added.}}\\n\\n==References==\\n{{Reflist}}\\n\\n==External links==\\n<!-- Read http://wow.gamepedia.com/Wowpedia:External_links_policy before posting your links here.\\nLinks that do not conform to the rules will be DELETED.\\nRepeat violations may result in a BAN.\\nHave a nice day. :) -->\\n{{Elinks-NPC|21838}}\\n\\n{{Gods and demigods}}\\n\\n[[Category:Arakkoa]]\\n[[Category:Demigods]]\\n[[Category:Lore]]\\n[[Category:Bosses]]\\n\\n[[es:Terokk]]\\n[[pl:Terokk]]'"
      ]
     },
     "execution_count": 44,
     "metadata": {},
     "output_type": "execute_result"
    }
   ],
   "source": [
    "names = list(df['name'])\n",
    "itemus = names[0]\n",
    "\n",
    "url = f\"https://wowpedia.fandom.com/api.php?action=query&prop=revisions&titles={itemus}&rvslots=*&rvprop=content&formatversion=2&format=json\"\n",
    "response = requests.get(url)\n",
    " \n",
    "itemdetail = response.json()\n",
    "itemdetail['query']['pages'][0]['revisions'][0]['slots']['main']['content']\n",
    "\n"
   ]
  },
  {
   "cell_type": "code",
   "execution_count": 45,
   "metadata": {},
   "outputs": [],
   "source": [
    "t = names[0]\n",
    "\n",
    "response = requests.get(\n",
    "     'https://wowpedia.fandom.com/api.php',\n",
    "         params={\n",
    "         'action': 'query',\n",
    "         'format': 'json',\n",
    "         'titles': '{}'.format(t),\n",
    "         'prop': 'revisions',\n",
    "         'rvprop': 'content',\n",
    "     }\n",
    " ).json()\n",
    "\n",
    "\n",
    "page = next(iter(response['query']['pages'].values()))\n",
    "\n",
    "wikicode = page['revisions'][0]['*']\n",
    "parsed_wikicode = mwparserfromhell.parse(wikicode).strip_code()\n"
   ]
  },
  {
   "cell_type": "code",
   "execution_count": 46,
   "metadata": {},
   "outputs": [
    {
     "data": {
      "text/plain": [
       "'Terokk was the greatest king of the arakkoa. Terokk was associated with the goddess Rukhmar and believed to be her incarnation, though this was not actually the case. Terokk was the arakkoa\\'s greatest hero who was betrayed by his own allies and afflicted with the Curse of Sethe. Even in this state, however, he sought to aid his fellow refugees by building the city of Skettis with his own claws. However the curse soon began to drive him to madness, and he was sealed away by his Talonpriests in the hopes of rejuvenating him. He now waits in the shadows to be called back into the physical world and face the enemies of his people. \\n\\nThe heretical Talon King Ikiss claims he is Terokk returned. \\n\\nTerokk also has an avatar in the form of a gigantic kaliri, unleashed on Shattrath when all of his plans are thwarted by adventurers at the behest of the Skettis refugees of the Lower City. \\n\\nBiography\\nOn Draenor\\nthumb|left|Terokk doing battle with the Bloodmane saberon, before becoming cursed.\\nthumb|The Avatar of Terokk\\nSix hundred years before the opening of the Dark Portal,World of Warcraft: Chronicle Volume 2, pg. 44 - 46 Talon King Terokk was an ancient king of the arakkoa of the spires of Arak. He was beloved by the people and would often wear a mask to walk among them in hiding.Hidden in Plain Sight The closest individual to Terokk was his daughter Lithic, who crafted a golden bangle for him that he always wore. He shared power with an order of priests called the Anhar.\\n\\nTerokk had many enemies, among them stalkers, wind serpents, colossi, and even fellow arakkoa.Adversarial Blood One enemy in particular was Pridelord Karash of the Bloodmane saberon, who once declared war against the arakkoa. His torment of the arakkoa caused them to wonder why their sun goddess Rukhmar had seemingly withdrawn her favor. Rather than send his troops, Terokk arrived to the battlefield in person and slaughtered most of the saberon.The Talon King Terokk\\'s victory over Pridelord Karash caused the arakkoa to celebrate Terokk as a living legend. Indeed, they even claimed him to be Rukhmar\\'s reincarnation. The Anhari priesthood began to grow nervous, for up until this point they alone had been allowed to speak in the sun goddess\\'s name. Terokk used his widespread support to build a new city, Skyreach, that called back to the accomplishments of the ancient Apexis. He created new laws restricting the authority of the Anhar order, declaring that high arakkoan society must be guided by a thirst for knowledge and wisdom, not by fear and superstition.\\n\\nBut however much his people loved and respected Terokk, the Anhari at Skyreach were jealous of him. Hungry for control, they conspired against Terokk and tossed both him and his daughter Lithic into the pools at Sethekk Hollow, which were formed eons ago in the death of the primal god Sethe. While Terokk survived the fall, Lithic did not; in his despair, Terokk surrendered to the darkness as his body withered and contorted, transforming Terokk into a flightless shadow of his former self. From that day forward Skyreach would be ruled not by a king but by the Anhari, now calling themselves the Adherents of Rukhmar. \\n\\nA presence called Terokk from the brink of despair, however. Anzu, the great dread raven god, urged Terokk forward. Now mutated and flightless but with powers of darkness, Terokk moved forward and rallied his fellow broken arakkoa who the Adherents had also tossed into the pools. They moved through the Sethekk Hollow until they came across The Eye of Anzu and met Anzu for the first time.\\n\\nAnzu gifted Terokk and his followers dark powers and arcane sorcery. In time, they would come to be known as Talonpriests. Together, Terokk, Anzu, and the Talonpriests would build the refuge city of Skettis among Apexis ruins and protect the unwanted children of Rukhmar: the Arakkoa Outcasts. The regions of Talador near to the Spires of Arak came under their control and became known as Terokkar Forest.\\n\\nWhen the winged arakkoa learned of the results of Terokk\\'s exile, rumors of his cursed state swept like wildfire through the arakkoa, giving rise to superstitious charms and cures.Dreamcatcher Eschewing traditional arakkoan weaponry, Terokk carried a cudgel as a symbol of his fall from king to outcast heretic. Rumors have persisted for centuries that rather than employing traditional wing-cutting as a punishment, Terokk simply shattered the beaks of those who dared to oppose him.Beakbreaker of Terokk\\n\\nAs the years went on Terokk\\'s health declined, grief tore at his heart, and Sethe\\'s curse chewed at his mind. He began to hate the world, abandoning Skettis and even sacrificing the lower castesHazzik\\'s Bargain of his own people to dark powers in search of a cure.Reshad\\'s dialogue after turning in Terokk\\'s Fall The arakkoa did not seem to know the reason for this abandonment and attributed it to them turning away from the worship of Rukhmar.Isfar Hoping to rejuvenate their king, the Talonpriests sealed Terokk away in the shadows. All that was left of Terokk were several artifacts he left behind. But Terokk was foretold to return some day.Countdown to Doom\\n\\nThe Burning Crusade\\n\\nTerokk seemingly surrendered completely to the madness of the Curse of Sethe during his long imprisonment in the shadows, and by the time of the War in Outland his minions worked in his name to commit evils throughout Terokkar Forest. At Veil Shienor and Veil Reskk, the Eyes of Skettis allowed Terokk to spy on those areas.The Eyes of Skettis At Veil Skith, the arakkoa used the Darkstone of Terokk as an altar of worship.Veil Skith: Darkstone of Terokk At Veil Rhaze, the spirits of arakkoa slain in the Auchindoun explosion remained with Terokk\\'s influence remaining on them.Veil Rhaze: Unliving Evil At Veil Lithic, his minions corrupted kaliri into his service.Veil Lithic: Preemptive Strike At Veil Shalas, the closest colony to Skettis, the arakkoa sages conducted wars against the Light.Veil Shalas: Signal Fires\\n\\nSome arakkoa, such as Kirrik the Awakened and Rilak the Redeemed, believe that Terokk is a false prophet who will lead them to their doom. These Skettis Exiles moved to Shattrath City and face the forces of Terokk in the name of the Light.Seek Out Kirrik Meanwhile, the heretical Talon King Ikiss believes himself to be Terokk reborn and leads the Sethekk cult in the Sethekk Halls.Talon King Ikiss dungeon journal\\n\\nBut deep inside Skettis, the arakkoa continue their battles against all who oppose them. The Sha\\'tari Skyguard, a group of Sha\\'tari flyers, have a base at Blackwind Landing, just outside of the Blackwind Valley where Skettis is located. On an island in the middle of Blackwind Lake, Terokk awaited the proper alignment of the stars to herald his return. Working with Hazzik, adventurers summoned the maddened husk of the Talon King before he was ready and ended the once mighty arakkoa\\'s life.Terokk\\'s Downfall\\n\\nObjective of\\n Terokk\\'s Downfall\\n\\nQuests\\nTerokk\\'s Rest, a massive summoning circle with an Ancient Skull Pile in the center, is located at the center of Blackwind Lake in the heart of Skettis. In Patch 2.1, a questline was introduced that in the end requires the player to summon Terokk himself at this location and destroy him once and for all. The final quest is Terokk\\'s Downfall.\\n\\nTerokk\\'s ancient enemies\\nTerokk, be he god or mortal, is said to have had many enemies in the past. It is not certain if these enemies were groups led by the individuals (more likely as many were sacrificed to dark powers when Terokk sought a cure to the curse), or just the individuals, of the following races who were his enemies: an Arakkoa, a Colossus, a Warp Stalker, and a Wind Serpent. Their descendants are being held prisoner by Skettis talonpriests who are likely waiting to kill them at the right time since Terokk himself says, when defeated, \"The stars are not yet aligned...my powers fail me!\" due to being summoned prematurely. In the quest A Shabby Disguise, it is prophesied that their demise will be followed by Terokk\\'s return. Apparently, when his enemies and any of their descendants are finally gone, he has the power to return.\\n\\nDefeating Terokk\\nTerokk has the following abilities:\\n\\nShadowbolt Volley: Does about 1.8k Shadow damage to everyone in his vicinity. A paladin\\'s shadow resistance aura or a priest\\'s shadow protection can help to counter this.\\n\\nChosen One: One person on his aggro list is made the chosen one for about 10 seconds, increasing his size, damage and healing while everyone else\\'s damage and healing is decreased.\\n\\nImmunity Shield: At 25% health he raises a shield that makes him 100% immune to all physical and magical attacks. To shatter the shield you have to drag him to the \"blue smoke markers\" where the Sha\\'tari Skyguard will drop bombs. When his shield is down he will go into a Frenzy, increasing his damage and the frequency of his shadowbolt volleys. Throw everything you got at him when his shield is down. After a few seconds he will raise his immunity shield again. Simply repeat until he is dead. The tank can already pull him towards another near marker while the shield is down, if present. It is rather tricky to lure him into the upcoming fire and not get the dot as well, so don\\'t waste your time running around the marker, just go through.\\n\\nFrenzy: Increases the casters attack speed by 50% and the physical damage it deals by 100% for 10 min.\\n\\n The relics of Terokk \\nTerokk was once revered by the arakkoa people, but one day mysteriously vanished, leaving his three artifacts behind: His spear, his mask and his writings. All were taken by the renegades of the Sethekk, led by the Talon King Ikiss. All three drop as quest items, but only one can be chosen as a quest reward.\\nThe Relics of Terokk\\n: Terokk\\'s spear. The stats of this weapon make it an ideal weapon for hunters. The spear is held by Talon King Ikiss.\\n: The mask of Terokk provides increased attack power and dodge rating, ideal for rogues and feral druids. The mask is held by Darkweaver Syth.\\n: Terokk\\'s book is a powerful tome that increases spell damage and healing. It is located in some kind of ritual circle in the room before Talon King Ikiss.\\n\\nQuotes\\nSummoned\\n\\nMakes a player the Chosen One\\n\\nUses Immunity Shield\\n\\nDrops\\n\\nTime-Lost Figurine\\nA must-have drop from this mob is called the Time-Lost Figurine, used to turn their character temporarily into a Arakkoa. While in this form going into combat does not change the player back, making this a fun and near must-have for many players. The difficulty, length, and rareness of obtaining the item however make it so players with it are scarce.\\n\\nPatch changes\\n\\nReferences\\n\\nExternal links\\n\\nCategory:Arakkoa\\nCategory:Demigods\\nCategory:Lore\\nCategory:Bosses\\n\\nes:Terokk\\npl:Terokk'"
      ]
     },
     "execution_count": 46,
     "metadata": {},
     "output_type": "execute_result"
    }
   ],
   "source": [
    "parsed_wikicode"
   ]
  },
  {
   "cell_type": "code",
   "execution_count": 50,
   "metadata": {},
   "outputs": [],
   "source": [
    "baseurl = \"https://wowpedia.fandom.com/api.php?\"\n",
    "action = \"action=query\"\n",
    "title = \"titles={}\"\n",
    "content = \"prop=revisions&rvprop=content\"\n",
    "dataformat =\"format=json\"\n",
    "\n",
    "query = \"{}{}&{}&{}&{}\".format(baseurl, action, content, title.format(t), dataformat)\n",
    "wikiresponse = urllib.request.urlopen(query)\n",
    "wikidata = wikiresponse.read()\n",
    "wikitext = wikidata.decode('utf-8')"
   ]
  },
  {
   "cell_type": "code",
   "execution_count": 52,
   "metadata": {},
   "outputs": [
    {
     "data": {
      "text/plain": [
       "'{\"batchcomplete\":\"\",\"warnings\":{\"main\":{\"*\":\"Subscribe to the mediawiki-api-announce mailing list at <https://lists.wikimedia.org/postorius/lists/mediawiki-api-announce.lists.wikimedia.org/> for notice of API deprecations and breaking changes.\"},\"revisions\":{\"*\":\"Because \\\\\"rvslots\\\\\" was not specified, a legacy format has been used for the output. This format is deprecated, and in the future the new format will always be used.\"}},\"query\":{\"pages\":{\"86839\":{\"pageid\":86839,\"ns\":0,\"title\":\"Terokk\",\"revisions\":[{\"contentformat\":\"text/x-wiki\",\"contentmodel\":\"wikitext\",\"*\":\"{{Foralt}}\\\\n{{npcbox\\\\n| name = Terokk\\\\n| image = Terokk.jpg\\\\n| titles = The Talon King\\\\n| gender = Male\\\\n| level = 72\\\\n| type = Elite\\\\n| race = Arakkoa\\\\n| creature = Undead\\\\n| faction = Combat\\\\n| aggro = {{aggro|-1|-1}}\\\\n| foccupation = Talon King of the Arakkoa, King of the Outcasts and Founder of Skettis\\\\n| status = Deceased (lore)<br/> Killable {{bc-inline}}\\\\n| location = [[Terokk\\'s Rest]] in [[Skettis]], [[Terokkar Forest]]\\\\n| relatives = [[Lithic]] (daughter)\\\\n}}\\\\n\\\\n\\'\\'\\'Terokk\\'\\'\\' was the greatest king of the [[arakkoa]]. Terokk was associated with the goddess [[Rukhmar]] and believed to be her incarnation, though this was not actually the case. Terokk was the arakkoa\\'s greatest hero who was betrayed by his own allies and afflicted with the Curse of Sethe. Even in this state, however, he sought to aid his fellow refugees by building the city of [[Skettis]] with his own claws. However the curse soon began to drive him to madness, and he was sealed away by his Talonpriests in the hopes of rejuvenating him. He now waits in the shadows to be called back into the physical world and face the enemies of his people. \\\\n\\\\nThe heretical [[Talon King Ikiss]] claims he is Terokk returned. \\\\n\\\\nTerokk also has an avatar in the form of a gigantic [[kaliri]], unleashed on Shattrath when all of his plans are thwarted by adventurers at the behest of the Skettis refugees of the [[Lower City]]. \\\\n\\\\n==Biography==\\\\n===On Draenor===\\\\n[[File:Terrok Battle.png|thumb|left|Terokk doing battle with the Bloodmane saberon, before becoming cursed.]]\\\\n[[Image:Avatar of Terokk.jpg|thumb|The Avatar of Terokk]]\\\\nSix hundred years before the opening of the [[Dark Portal]],<ref name=\\\\\"Chronicle44-46\\\\\">\\'\\'[[World of Warcraft: Chronicle Volume 2]]\\'\\', pg. 44 - 46</ref> Talon King Terokk was an ancient king of the arakkoa of the [[spires of Arak]]. He was beloved by the people and would often wear a mask to walk among them in hiding.<ref>[[Hidden in Plain Sight]]</ref> The closest individual to Terokk was his daughter [[Lithic]], who crafted a golden bangle for him that he always wore. He shared power with an order of priests called the Anhar.<ref name=\\\\\"Chronicle44-46\\\\\"/>\\\\n\\\\nTerokk had many enemies, among them [[Warp Stalker|stalkers]], [[Wind Serpent|wind serpents]], [[Colossus|colossi]], and even fellow arakkoa.<ref>[[Adversarial Blood]]</ref> One enemy in particular was [[Pridelord Karash]] of the [[Bloodmane tribe|Bloodmane]] [[saberon]], who once declared war against the arakkoa. His torment of the arakkoa caused them to wonder why their sun goddess [[Rukhmar]] had seemingly withdrawn her favor.<ref name=\\\\\"Chronicle44-46\\\\\"/> Rather than send his troops, Terokk arrived to the battlefield in person and slaughtered most of the saberon.<ref>[[The Talon King]]</ref> Terokk\\'s victory over [[Pridelord Karash]] caused the arakkoa to celebrate Terokk as a living legend. Indeed, they even claimed him to be Rukhmar\\'s reincarnation. The Anhari priesthood began to grow nervous, for up until this point they alone had been allowed to speak in the sun goddess\\'s name. Terokk used his widespread support to build a new city, [[Skyreach]], that called back to the accomplishments of the ancient [[Apexis]]. He created new laws restricting the authority of the Anhar order, declaring that high arakkoan society must be guided by a thirst for knowledge and wisdom, not by fear and superstition.<ref name=\\\\\"Chronicle44-46\\\\\"/>\\\\n\\\\nBut however much his people loved and respected Terokk, the Anhari at Skyreach were jealous of him. Hungry for control, they conspired against Terokk and tossed both him and his daughter Lithic into the pools at [[Sethekk Hollow]], which were formed eons ago in the death of the primal god [[Sethe]]. While Terokk survived the fall, Lithic did not; in his despair, Terokk surrendered to the darkness as his body withered and contorted, transforming Terokk into a flightless shadow of his former self. From that day forward Skyreach would be ruled not by a king but by the Anhari, now calling themselves the [[Adherents of Rukhmar]]. \\\\n\\\\nA presence called Terokk from the brink of despair, however. [[Anzu]], the great [[dread raven]] god, urged Terokk forward. Now mutated and flightless but with powers of darkness, Terokk moved forward and rallied his fellow broken arakkoa who the Adherents had also tossed into the pools. They moved through the Sethekk Hollow until they came across [[The Eye of Anzu]] and met Anzu for the first time.\\\\n\\\\nAnzu gifted Terokk and his followers [[Void|dark]] powers and [[arcane]] sorcery.<ref name=\\\\\"Chronicle44-46\\\\\"/> In time, they would come to be known as [[Talonpriest]]s. Together, Terokk, Anzu, and the Talonpriests would build the refuge city of [[Skettis]] among Apexis ruins<ref name=\\\\\"Chronicle44-46\\\\\"/> and protect the unwanted children of Rukhmar: the [[Arakkoa Outcasts]]. The regions of [[Talador]] near to the Spires of Arak came under their control and became known as [[Terokkar Forest]].<ref name=\\\\\"Chronicle44-46\\\\\"/>\\\\n\\\\nWhen the winged arakkoa learned of the results of Terokk\\'s exile, rumors of his cursed state swept like wildfire through the arakkoa, giving rise to superstitious charms and cures.<ref>[[Dreamcatcher]]</ref> Eschewing traditional arakkoan weaponry, Terokk carried a cudgel as a symbol of his fall from king to outcast heretic. Rumors have persisted for centuries that rather than employing traditional wing-cutting as a punishment, Terokk simply shattered the beaks of those who dared to oppose him.<ref>[[Beakbreaker of Terokk]]</ref>\\\\n\\\\nAs the years went on Terokk\\'s health declined, grief tore at his heart, and Sethe\\'s curse chewed at his mind. He began to hate the world, abandoning Skettis and even sacrificing the lower castes<ref>[[Hazzik\\'s Bargain]]</ref> of his own people to dark powers in search of a cure.<ref name=\\\\\"Fall\\\\\">[[Reshad]]\\'s dialogue after turning in [[Terokk\\'s Fall]]</ref> The arakkoa did not seem to know the reason for this abandonment and attributed it to them turning away from the worship of Rukhmar.<ref name=\\\\\"Isfar\\\\\">[[Isfar]]</ref> Hoping to rejuvenate their king, the Talonpriests sealed Terokk away in the shadows. All that was left of Terokk were several artifacts he left behind.<ref name=\\\\\"Fall\\\\\"/> But Terokk was foretold to return some day.<ref>[[Countdown to Doom]]</ref>\\\\n\\\\n===The Burning Crusade===\\\\n{{bc-section}}\\\\nTerokk seemingly surrendered completely to the madness of the Curse of Sethe during his long imprisonment in the shadows, and by the time of the War in Outland his minions worked in his name to commit evils throughout Terokkar Forest. At [[Veil Shienor]] and [[Veil Reskk]], the Eyes of Skettis allowed Terokk to spy on those areas.<ref>[[The Eyes of Skettis]]</ref> At [[Veil Skith]], the arakkoa used the [[Darkstone of Terokk]] as an altar of worship.<ref>[[Veil Skith: Darkstone of Terokk]]</ref> At [[Veil Rhaze]], the spirits of arakkoa slain in the Auchindoun explosion remained with Terokk\\'s influence remaining on them.<ref>[[Veil Rhaze: Unliving Evil]]</ref> At [[Veil Lithic]], his minions corrupted [[kaliri]] into his service.<ref>[[Veil Lithic: Preemptive Strike]]</ref> At [[Veil Shalas]], the closest colony to Skettis, the arakkoa [[sage]]s conducted wars against the Light.<ref>[[Veil Shalas: Signal Fires]]</ref>\\\\n\\\\nSome arakkoa, such as [[Kirrik the Awakened]] and [[Rilak the Redeemed]], believe that Terokk is a false prophet who will lead them to their doom. These [[Skettis Exiles]] moved to [[Shattrath City]] and face the forces of Terokk in the name of the [[Light]].<ref>[[Seek Out Kirrik]]</ref> Meanwhile, the heretical [[Talon King Ikiss]] believes himself to be Terokk reborn and leads the [[Sethekk]] cult in the [[Sethekk Halls]].<ref>[[Talon King Ikiss]] dungeon journal</ref>\\\\n\\\\nBut deep inside Skettis, the arakkoa continue their battles against all who oppose them. The [[Sha\\'tari Skyguard]], a group of Sha\\'tari flyers, have a base at Blackwind Landing, just outside of the Blackwind Valley where Skettis is located. On [[Terokk\\'s Rest|an island in the middle of Blackwind Lake]], Terokk awaited the proper alignment of the stars to herald his return. Working with [[Hazzik]], adventurers summoned the maddened husk of the Talon King before he was ready and ended the once mighty arakkoa\\'s life.<ref>[[Terokk\\'s Downfall]]</ref>\\\\n\\\\n==Objective of==\\\\n* [[Terokk\\'s Downfall]]\\\\n\\\\n==Quests==\\\\n[[Terokk\\'s Rest]], a massive summoning circle with an [[Ancient Skull Pile]] in the center, is located at the center of [[Blackwind Lake]] in the heart of [[Skettis]]. In Patch 2.1, a questline was introduced that in the end requires the player to summon Terokk himself at this location and destroy him once and for all. The final quest is [[Terokk\\'s Downfall]].\\\\n\\\\n==Terokk\\'s ancient enemies==\\\\nTerokk, be he [[god]] or [[mortal]], is said to have had many enemies in the past. It is not certain if these enemies were groups led by the individuals (more likely as many were sacrificed to dark powers when Terokk sought a cure to the curse), or just the individuals, of the following races who were his enemies: an Arakkoa, a [[Colossus]], a [[Warp Stalker]], and a [[Wind Serpent]]. Their descendants are being held prisoner by Skettis talonpriests who are likely waiting to kill them at the right time since Terokk himself says, when defeated, \\\\\"The stars are not yet aligned...my powers fail me!\\\\\" due to being summoned prematurely. In the quest [[A Shabby Disguise|A Shabby Disguise]], it is prophesied that their demise will be followed by Terokk\\'s return. Apparently, when his enemies and any of their descendants are finally gone, he has the power to return.\\\\n\\\\n==Defeating Terokk==\\\\nTerokk has the following abilities:\\\\n\\\\n*\\'\\'\\'Shadowbolt Volley\\'\\'\\': Does about 1.8k Shadow damage to everyone in his vicinity. A paladin\\'s shadow resistance aura or a priest\\'s shadow protection can help to counter this.\\\\n\\\\n*\\'\\'\\'Chosen One\\'\\'\\': One person on his aggro list is made the chosen one for about 10 seconds, increasing his size, damage and healing while everyone else\\'s damage and healing is decreased.\\\\n\\\\n*\\'\\'\\'Immunity Shield\\'\\'\\': At 25% health he raises a shield that makes him 100% immune to all physical and magical attacks. To shatter the shield you have to drag him to the \\\\\"blue smoke markers\\\\\" where the Sha\\'tari Skyguard will drop bombs. When his shield is down he will go into a \\'\\'\\'Frenzy\\'\\'\\', increasing his damage and the frequency of his shadowbolt volleys. Throw everything you got at him when his shield is down. After a few seconds he will raise his immunity shield again. Simply repeat until he is dead. The tank can already pull him towards another near marker while the shield is down, if present. It is rather tricky to lure him into the upcoming fire and not get the dot as well, so don\\'t waste your time running around the marker, just go through.\\\\n\\\\n*\\'\\'\\'Frenzy\\'\\'\\': Increases the casters attack speed by 50% and the physical damage it deals by 100% for 10 min.\\\\n\\\\n== The relics of Terokk ==\\\\nTerokk was once revered by the arakkoa people, but one day mysteriously vanished, leaving his three artifacts behind: His spear, his mask and his writings. All were taken by the renegades of the Sethekk, led by the [[Talon King Ikiss]]. All three drop as quest items, but only one can be chosen as a quest reward.\\\\n*[[The Relics of Terokk]]\\\\n**{{loot|rare|Terokk\\'s Quill}}: Terokk\\'s spear. The stats of this weapon make it an ideal weapon for hunters. The spear is held by [[Talon King Ikiss]].\\\\n**{{loot|rare|Terokk\\'s Mask}}: The mask of Terokk provides increased attack power and dodge rating, ideal for rogues and feral druids. The mask is held by [[Darkweaver Syth]].\\\\n**{{loot|rare|The Saga of Terokk (off-hand)|The Saga of Terokk}}: Terokk\\'s book is a powerful tome that increases spell damage and healing. It is located in some kind of ritual circle in the room before Talon King Ikiss.\\\\n\\\\n==Quotes==\\\\n;Summoned\\\\n:{{text|say|Who calls me to this world? The stars are not yet aligned... my powers fail me! You will pay for this!}}\\\\n\\\\n;Makes a player the Chosen One\\\\n:{{text|yell|Show me how tough you are, <name>!}}\\\\n\\\\n;Uses Immunity Shield\\\\n:{{text|yell|Kwa! You cannot kill me, I am immortal!}}\\\\n\\\\n==Drops==\\\\n*{{loot|epic|Terokk\\'s Wisdom}}\\\\n*{{loot|epic|Terokk\\'s Might}}\\\\n*{{loot|rare|Terokk\\'s Gavel}}\\\\n*{{loot|rare|Gift of the Talonpriests}}\\\\n*{{loot|rare|Brooch of the Immortal King}}\\\\n*{{loot|rare|Skystalker\\'s Leggings}}\\\\n*{{loot|rare|Slatesteel Leggings}}\\\\n*{{loot|rare|Time-Lost Figurine}}\\\\n\\\\n==Time-Lost Figurine==\\\\nA must-have drop from this mob is called the [[Time-Lost Figurine]], used to turn their character temporarily into a Arakkoa. While in this form going into combat does not change the player back, making this a fun and near must-have for many players. The difficulty, length, and rareness of obtaining the item however make it so players with it are scarce.\\\\n\\\\n<gallery>\\\\nTime-Lost Figurine.jpg|A player in Armored Arakkoa form.\\\\nTime-Lost Figurine3.jpg|A player in Magi Arakkoa form.\\\\nTime-Lost Figurine2.jpg|A player in a normal, purple Arakkoa form.\\\\n</gallery>\\\\n\\\\n==Patch changes==\\\\n*{{Patch 2.1.0|note=Added.}}\\\\n\\\\n==References==\\\\n{{Reflist}}\\\\n\\\\n==External links==\\\\n<!-- Read http://wow.gamepedia.com/Wowpedia:External_links_policy before posting your links here.\\\\nLinks that do not conform to the rules will be DELETED.\\\\nRepeat violations may result in a BAN.\\\\nHave a nice day. :) -->\\\\n{{Elinks-NPC|21838}}\\\\n\\\\n{{Gods and demigods}}\\\\n\\\\n[[Category:Arakkoa]]\\\\n[[Category:Demigods]]\\\\n[[Category:Lore]]\\\\n[[Category:Bosses]]\\\\n\\\\n[[es:Terokk]]\\\\n[[pl:Terokk]]\"}]}}}}'"
      ]
     },
     "execution_count": 52,
     "metadata": {},
     "output_type": "execute_result"
    }
   ],
   "source": [
    "wikitext"
   ]
  },
  {
   "cell_type": "code",
   "execution_count": 55,
   "metadata": {},
   "outputs": [
    {
     "name": "stdout",
     "output_type": "stream",
     "text": [
      "Terokk's_Rest\n",
      "Skettis\n",
      "Terokkar_Forest\n",
      "Lithic\n",
      "arakkoa\n",
      "Rukhmar\n",
      "Skettis\n",
      "Talon_King_Ikiss\n",
      "kaliri\n",
      "Lower_City\n",
      "File:Terrok_Battle.png|thumb|left|Terokk_doing_battle_with_the_Bloodmane_saberon,_before_becoming_cursed.\n",
      "Image:Avatar_of_Terokk.jpg|thumb|The_Avatar_of_Terokk\n",
      "Dark_Portal\n",
      "World_of_Warcraft:_Chronicle_Volume_2\n",
      "spires_of_Arak\n",
      "Hidden_in_Plain_Sight\n",
      "Lithic\n",
      "Warp_Stalker|stalkers\n",
      "Wind_Serpent|wind_serpents\n",
      "Colossus|colossi\n",
      "Adversarial_Blood\n",
      "Pridelord_Karash\n",
      "Bloodmane_tribe|Bloodmane\n",
      "saberon\n",
      "Rukhmar\n",
      "The_Talon_King\n",
      "Pridelord_Karash\n",
      "Skyreach\n",
      "Apexis\n",
      "Sethekk_Hollow\n",
      "Sethe\n",
      "Adherents_of_Rukhmar\n",
      "Anzu\n",
      "dread_raven\n",
      "The_Eye_of_Anzu\n",
      "Void|dark\n",
      "arcane\n",
      "Talonpriest\n",
      "Skettis\n",
      "Arakkoa_Outcasts\n",
      "Talador\n",
      "Terokkar_Forest\n",
      "Dreamcatcher\n",
      "Beakbreaker_of_Terokk\n",
      "Hazzik's_Bargain\n",
      "Reshad\n",
      "Terokk's_Fall\n",
      "Isfar\n",
      "Countdown_to_Doom\n",
      "Veil_Shienor\n",
      "Veil_Reskk\n",
      "The_Eyes_of_Skettis\n",
      "Veil_Skith\n",
      "Darkstone_of_Terokk\n",
      "Veil_Skith:_Darkstone_of_Terokk\n",
      "Veil_Rhaze\n",
      "Veil_Rhaze:_Unliving_Evil\n",
      "Veil_Lithic\n",
      "kaliri\n",
      "Veil_Lithic:_Preemptive_Strike\n",
      "Veil_Shalas\n",
      "sage\n",
      "Veil_Shalas:_Signal_Fires\n",
      "Kirrik_the_Awakened\n",
      "Rilak_the_Redeemed\n",
      "Skettis_Exiles\n",
      "Shattrath_City\n",
      "Light\n",
      "Seek_Out_Kirrik\n",
      "Talon_King_Ikiss\n",
      "Sethekk\n",
      "Sethekk_Halls\n",
      "Talon_King_Ikiss\n",
      "Sha'tari_Skyguard\n",
      "Terokk's_Rest|an_island_in_the_middle_of_Blackwind_Lake\n",
      "Hazzik\n",
      "Terokk's_Downfall\n",
      "Terokk's_Downfall\n",
      "Terokk's_Rest\n",
      "Ancient_Skull_Pile\n",
      "Blackwind_Lake\n",
      "Skettis\n",
      "Terokk's_Downfall\n",
      "god\n",
      "mortal\n",
      "Colossus\n",
      "Warp_Stalker\n",
      "Wind_Serpent\n",
      "A_Shabby_Disguise|A_Shabby_Disguise\n",
      "Talon_King_Ikiss\n",
      "The_Relics_of_Terokk\n",
      "Talon_King_Ikiss\n",
      "Darkweaver_Syth\n",
      "Time-Lost_Figurine\n",
      "Category:Arakkoa\n",
      "Category:Demigods\n",
      "Category:Lore\n",
      "Category:Bosses\n",
      "es:Terokk\n",
      "pl:Terokk\n"
     ]
    }
   ],
   "source": [
    "WORD_RE = re.compile(r\"\\[{2}.*?\\]{2}\")\n",
    "\n",
    "for word in WORD_RE.findall(wikitext):\n",
    "    word = word[2:-2].replace(\" \", \"_\")\n",
    "    print(word)"
   ]
  }
 ],
 "metadata": {
  "kernelspec": {
   "display_name": "Python 3",
   "language": "python",
   "name": "python3"
  },
  "language_info": {
   "codemirror_mode": {
    "name": "ipython",
    "version": 3
   },
   "file_extension": ".py",
   "mimetype": "text/x-python",
   "name": "python",
   "nbconvert_exporter": "python",
   "pygments_lexer": "ipython3",
   "version": "3.8.5"
  }
 },
 "nbformat": 4,
 "nbformat_minor": 4
}
