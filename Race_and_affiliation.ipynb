{
 "cells": [
  {
   "cell_type": "code",
   "execution_count": 1,
   "metadata": {},
   "outputs": [],
   "source": [
    "from urllib.request import urlopen\n",
    "from bs4 import BeautifulSoup\n",
    "import pandas as pd\n",
    "import requests\n",
    "import mwparserfromhell\n",
    "import urllib.request\n",
    "import json\n",
    "import re\n",
    "import pandas as pd\n",
    "from tqdm import tqdm\n",
    "import pickle\n"
   ]
  },
  {
   "cell_type": "code",
   "execution_count": 2,
   "metadata": {},
   "outputs": [],
   "source": [
    "def get_race(tokens, i):\n",
    "    regex2 = \"^[a-zA-z' ]+[a-zA-Z ]+\"\n",
    "    \n",
    "    regex_expressions = re.findall(regex2, tokens[i+1])\n",
    "    \n",
    "    # join into word\n",
    "    \n",
    "    race = \" \".join(regex_expressions).strip()\n",
    "    \n",
    "    return race\n",
    "\n",
    "def get_affiliation(tokens, i):\n",
    "    regex3 = '[a-zA-z ]+'\n",
    "    \n",
    "    to_string = ' '.join(tokens[i:])\n",
    "    regex_expressions = re.findall(regex3, to_string)\n",
    "    regex_expressions = [k.strip() for k in regex_expressions]\n",
    "    \n",
    "    if \"Horde\" in regex_expressions:\n",
    "        affiliation = \"Horde\"\n",
    "    elif \"Alliance\" in regex_expressions:\n",
    "        affiliation = 'Alliance'\n",
    "    else:\n",
    "        affiliation = 'Other'\n",
    "        \n",
    "    return affiliation"
   ]
  },
  {
   "cell_type": "code",
   "execution_count": 3,
   "metadata": {},
   "outputs": [],
   "source": [
    "def get_race_and_affiliation(text):\n",
    "\n",
    "    regex1 = '[a-zA-Z][^A-Z]*'\n",
    "    \n",
    "    tokens_race = text.split(\"\\n\")\n",
    "    tokens_affiliation = re.findall(regex1, text.replace(\"\\n\",\"\"))\n",
    "\n",
    "    race = 0\n",
    "    affiliation = 0\n",
    "\n",
    "    for i, word in enumerate(tokens_race):\n",
    "        if 'Race' in word:\n",
    "            race = get_race(tokens_race,i)\n",
    "    for i, word in enumerate(tokens_affiliation):\n",
    "        if 'Affiliation' in word:\n",
    "            affiliation = get_affiliation(tokens_affiliation,i)\n",
    "    \n",
    "    return race, affiliation\n"
   ]
  },
  {
   "cell_type": "code",
   "execution_count": 51,
   "metadata": {},
   "outputs": [
    {
     "data": {
      "text/html": [
       "<div>\n",
       "<style scoped>\n",
       "    .dataframe tbody tr th:only-of-type {\n",
       "        vertical-align: middle;\n",
       "    }\n",
       "\n",
       "    .dataframe tbody tr th {\n",
       "        vertical-align: top;\n",
       "    }\n",
       "\n",
       "    .dataframe thead th {\n",
       "        text-align: right;\n",
       "    }\n",
       "</style>\n",
       "<table border=\"1\" class=\"dataframe\">\n",
       "  <thead>\n",
       "    <tr style=\"text-align: right;\">\n",
       "      <th></th>\n",
       "      <th>Name</th>\n",
       "      <th>Race</th>\n",
       "      <th>Affiliation</th>\n",
       "    </tr>\n",
       "  </thead>\n",
       "  <tbody>\n",
       "    <tr>\n",
       "      <th>0</th>\n",
       "      <td>Terokk</td>\n",
       "      <td>Arakkoa</td>\n",
       "      <td>0</td>\n",
       "    </tr>\n",
       "    <tr>\n",
       "      <th>1</th>\n",
       "      <td>Talon_King_Ikiss</td>\n",
       "      <td>Arakkoa</td>\n",
       "      <td>Other</td>\n",
       "    </tr>\n",
       "    <tr>\n",
       "      <th>2</th>\n",
       "      <td>Archimonde</td>\n",
       "      <td>Man'ari eredar</td>\n",
       "      <td>Other</td>\n",
       "    </tr>\n",
       "    <tr>\n",
       "      <th>3</th>\n",
       "      <td>Kil'jaeden</td>\n",
       "      <td>Man'ari eredar</td>\n",
       "      <td>Other</td>\n",
       "    </tr>\n",
       "    <tr>\n",
       "      <th>4</th>\n",
       "      <td>Mannoroth</td>\n",
       "      <td>Annihilan</td>\n",
       "      <td>Other</td>\n",
       "    </tr>\n",
       "    <tr>\n",
       "      <th>...</th>\n",
       "      <td>...</td>\n",
       "      <td>...</td>\n",
       "      <td>...</td>\n",
       "    </tr>\n",
       "    <tr>\n",
       "      <th>2520</th>\n",
       "      <td>the_Jade_Warlord</td>\n",
       "      <td>Mogu</td>\n",
       "      <td>0</td>\n",
       "    </tr>\n",
       "    <tr>\n",
       "      <th>2521</th>\n",
       "      <td>the_Jailer</td>\n",
       "      <td>Eternal One</td>\n",
       "      <td>Other</td>\n",
       "    </tr>\n",
       "    <tr>\n",
       "      <th>2522</th>\n",
       "      <td>the_Monkey_King</td>\n",
       "      <td>Hozen</td>\n",
       "      <td>Other</td>\n",
       "    </tr>\n",
       "    <tr>\n",
       "      <th>2523</th>\n",
       "      <td>the_Stonewright</td>\n",
       "      <td>Venthyr</td>\n",
       "      <td>Other</td>\n",
       "    </tr>\n",
       "    <tr>\n",
       "      <th>2524</th>\n",
       "      <td>the_Tithelord</td>\n",
       "      <td>Venthyr</td>\n",
       "      <td>Other</td>\n",
       "    </tr>\n",
       "  </tbody>\n",
       "</table>\n",
       "<p>2485 rows × 3 columns</p>\n",
       "</div>"
      ],
      "text/plain": [
       "                  Name            Race Affiliation\n",
       "0               Terokk         Arakkoa           0\n",
       "1     Talon_King_Ikiss         Arakkoa       Other\n",
       "2           Archimonde  Man'ari eredar       Other\n",
       "3           Kil'jaeden  Man'ari eredar       Other\n",
       "4            Mannoroth       Annihilan       Other\n",
       "...                ...             ...         ...\n",
       "2520  the_Jade_Warlord            Mogu           0\n",
       "2521        the_Jailer     Eternal One       Other\n",
       "2522   the_Monkey_King           Hozen       Other\n",
       "2523   the_Stonewright         Venthyr       Other\n",
       "2524     the_Tithelord         Venthyr       Other\n",
       "\n",
       "[2485 rows x 3 columns]"
      ]
     },
     "execution_count": 51,
     "metadata": {},
     "output_type": "execute_result"
    }
   ],
   "source": [
    "with open('df.pickle', 'rb') as handle:\n",
    "    df = pickle.load(handle)"
   ]
  },
  {
   "cell_type": "code",
   "execution_count": 6,
   "metadata": {
    "scrolled": true
   },
   "outputs": [
    {
     "name": "stderr",
     "output_type": "stream",
     "text": [
      " 28%|█████████████████████▊                                                         | 698/2525 [04:42<10:44,  2.83it/s]"
     ]
    },
    {
     "name": "stdout",
     "output_type": "stream",
     "text": [
      "Data_Anomaly\n"
     ]
    },
    {
     "name": "stderr",
     "output_type": "stream",
     "text": [
      " 87%|███████████████████████████████████████████████████████████████████▌          | 2188/2525 [15:11<01:48,  3.11it/s]"
     ]
    },
    {
     "name": "stdout",
     "output_type": "stream",
     "text": [
      "The_Characters_of_Warcraft\n",
      "The_Characters_of_Warcraft\n"
     ]
    },
    {
     "name": "stderr",
     "output_type": "stream",
     "text": [
      "\r",
      " 87%|███████████████████████████████████████████████████████████████████▌          | 2189/2525 [15:11<01:40,  3.34it/s]"
     ]
    },
    {
     "name": "stdout",
     "output_type": "stream",
     "text": [
      "The_Characters_of_Warcraft\n"
     ]
    },
    {
     "name": "stderr",
     "output_type": "stream",
     "text": [
      "\r",
      " 87%|███████████████████████████████████████████████████████████████████▋          | 2190/2525 [15:11<01:47,  3.11it/s]"
     ]
    },
    {
     "name": "stdout",
     "output_type": "stream",
     "text": [
      "The_Characters_of_Warcraft\n"
     ]
    },
    {
     "name": "stderr",
     "output_type": "stream",
     "text": [
      "\r",
      " 87%|███████████████████████████████████████████████████████████████████▋          | 2191/2525 [15:12<01:53,  2.94it/s]"
     ]
    },
    {
     "name": "stdout",
     "output_type": "stream",
     "text": [
      "The_Characters_of_Warcraft\n"
     ]
    },
    {
     "name": "stderr",
     "output_type": "stream",
     "text": [
      "\r",
      " 87%|███████████████████████████████████████████████████████████████████▋          | 2192/2525 [15:12<01:49,  3.05it/s]"
     ]
    },
    {
     "name": "stdout",
     "output_type": "stream",
     "text": [
      "The_Characters_of_Warcraft\n"
     ]
    },
    {
     "name": "stderr",
     "output_type": "stream",
     "text": [
      "\r",
      " 87%|███████████████████████████████████████████████████████████████████▋          | 2193/2525 [15:12<01:55,  2.87it/s]"
     ]
    },
    {
     "name": "stdout",
     "output_type": "stream",
     "text": [
      "The_Characters_of_Warcraft\n"
     ]
    },
    {
     "name": "stderr",
     "output_type": "stream",
     "text": [
      "\r",
      " 87%|███████████████████████████████████████████████████████████████████▊          | 2194/2525 [15:13<02:00,  2.74it/s]"
     ]
    },
    {
     "name": "stdout",
     "output_type": "stream",
     "text": [
      "The_Characters_of_Warcraft\n"
     ]
    },
    {
     "name": "stderr",
     "output_type": "stream",
     "text": [
      "\r",
      " 87%|███████████████████████████████████████████████████████████████████▊          | 2195/2525 [15:13<01:57,  2.80it/s]"
     ]
    },
    {
     "name": "stdout",
     "output_type": "stream",
     "text": [
      "The_Characters_of_Warcraft\n"
     ]
    },
    {
     "name": "stderr",
     "output_type": "stream",
     "text": [
      "\r",
      " 87%|███████████████████████████████████████████████████████████████████▊          | 2196/2525 [15:14<01:57,  2.79it/s]"
     ]
    },
    {
     "name": "stdout",
     "output_type": "stream",
     "text": [
      "The_Characters_of_Warcraft\n"
     ]
    },
    {
     "name": "stderr",
     "output_type": "stream",
     "text": [
      "\r",
      " 87%|███████████████████████████████████████████████████████████████████▊          | 2197/2525 [15:14<01:50,  2.98it/s]"
     ]
    },
    {
     "name": "stdout",
     "output_type": "stream",
     "text": [
      "The_Characters_of_Warcraft\n"
     ]
    },
    {
     "name": "stderr",
     "output_type": "stream",
     "text": [
      "\r",
      " 87%|███████████████████████████████████████████████████████████████████▉          | 2198/2525 [15:14<01:48,  3.01it/s]"
     ]
    },
    {
     "name": "stdout",
     "output_type": "stream",
     "text": [
      "The_Characters_of_Warcraft\n"
     ]
    },
    {
     "name": "stderr",
     "output_type": "stream",
     "text": [
      "\r",
      " 87%|███████████████████████████████████████████████████████████████████▉          | 2199/2525 [15:16<03:23,  1.60it/s]"
     ]
    },
    {
     "name": "stdout",
     "output_type": "stream",
     "text": [
      "The_Characters_of_Warcraft\n"
     ]
    },
    {
     "name": "stderr",
     "output_type": "stream",
     "text": [
      "\r",
      " 87%|███████████████████████████████████████████████████████████████████▉          | 2200/2525 [15:16<02:49,  1.91it/s]"
     ]
    },
    {
     "name": "stdout",
     "output_type": "stream",
     "text": [
      "The_Characters_of_Warcraft\n"
     ]
    },
    {
     "name": "stderr",
     "output_type": "stream",
     "text": [
      "\r",
      " 87%|███████████████████████████████████████████████████████████████████▉          | 2201/2525 [15:16<02:27,  2.20it/s]"
     ]
    },
    {
     "name": "stdout",
     "output_type": "stream",
     "text": [
      "The_Characters_of_Warcraft\n"
     ]
    },
    {
     "name": "stderr",
     "output_type": "stream",
     "text": [
      "\r",
      " 87%|████████████████████████████████████████████████████████████████████          | 2202/2525 [15:16<02:21,  2.28it/s]"
     ]
    },
    {
     "name": "stdout",
     "output_type": "stream",
     "text": [
      "The_Characters_of_Warcraft\n"
     ]
    },
    {
     "name": "stderr",
     "output_type": "stream",
     "text": [
      "\r",
      " 87%|████████████████████████████████████████████████████████████████████          | 2203/2525 [15:17<02:14,  2.39it/s]"
     ]
    },
    {
     "name": "stdout",
     "output_type": "stream",
     "text": [
      "The_Characters_of_Warcraft\n"
     ]
    },
    {
     "name": "stderr",
     "output_type": "stream",
     "text": [
      "\r",
      " 87%|████████████████████████████████████████████████████████████████████          | 2204/2525 [15:17<02:10,  2.46it/s]"
     ]
    },
    {
     "name": "stdout",
     "output_type": "stream",
     "text": [
      "The_Characters_of_Warcraft\n"
     ]
    },
    {
     "name": "stderr",
     "output_type": "stream",
     "text": [
      "\r",
      " 87%|████████████████████████████████████████████████████████████████████          | 2205/2525 [15:18<02:09,  2.48it/s]"
     ]
    },
    {
     "name": "stdout",
     "output_type": "stream",
     "text": [
      "The_Characters_of_Warcraft\n"
     ]
    },
    {
     "name": "stderr",
     "output_type": "stream",
     "text": [
      "\r",
      " 87%|████████████████████████████████████████████████████████████████████▏         | 2206/2525 [15:18<02:01,  2.62it/s]"
     ]
    },
    {
     "name": "stdout",
     "output_type": "stream",
     "text": [
      "The_Characters_of_Warcraft\n"
     ]
    },
    {
     "name": "stderr",
     "output_type": "stream",
     "text": [
      "\r",
      " 87%|████████████████████████████████████████████████████████████████████▏         | 2207/2525 [15:18<02:00,  2.64it/s]"
     ]
    },
    {
     "name": "stdout",
     "output_type": "stream",
     "text": [
      "The_Characters_of_Warcraft\n"
     ]
    },
    {
     "name": "stderr",
     "output_type": "stream",
     "text": [
      "\r",
      " 87%|████████████████████████████████████████████████████████████████████▏         | 2208/2525 [15:19<01:53,  2.80it/s]"
     ]
    },
    {
     "name": "stdout",
     "output_type": "stream",
     "text": [
      "The_Characters_of_Warcraft\n"
     ]
    },
    {
     "name": "stderr",
     "output_type": "stream",
     "text": [
      "\r",
      " 87%|████████████████████████████████████████████████████████████████████▏         | 2209/2525 [15:19<01:46,  2.96it/s]"
     ]
    },
    {
     "name": "stdout",
     "output_type": "stream",
     "text": [
      "The_Characters_of_Warcraft\n"
     ]
    },
    {
     "name": "stderr",
     "output_type": "stream",
     "text": [
      "\r",
      " 88%|████████████████████████████████████████████████████████████████████▎         | 2210/2525 [15:19<01:42,  3.06it/s]"
     ]
    },
    {
     "name": "stdout",
     "output_type": "stream",
     "text": [
      "The_Characters_of_Warcraft\n"
     ]
    },
    {
     "name": "stderr",
     "output_type": "stream",
     "text": [
      "\r",
      " 88%|████████████████████████████████████████████████████████████████████▎         | 2211/2525 [15:20<01:48,  2.89it/s]"
     ]
    },
    {
     "name": "stdout",
     "output_type": "stream",
     "text": [
      "The_Characters_of_Warcraft\n"
     ]
    },
    {
     "name": "stderr",
     "output_type": "stream",
     "text": [
      "\r",
      " 88%|████████████████████████████████████████████████████████████████████▎         | 2212/2525 [15:20<01:44,  3.00it/s]"
     ]
    },
    {
     "name": "stdout",
     "output_type": "stream",
     "text": [
      "The_Characters_of_Warcraft\n"
     ]
    },
    {
     "name": "stderr",
     "output_type": "stream",
     "text": [
      "\r",
      " 88%|████████████████████████████████████████████████████████████████████▎         | 2213/2525 [15:20<01:43,  3.02it/s]"
     ]
    },
    {
     "name": "stdout",
     "output_type": "stream",
     "text": [
      "The_Characters_of_Warcraft\n"
     ]
    },
    {
     "name": "stderr",
     "output_type": "stream",
     "text": [
      "\r",
      " 88%|████████████████████████████████████████████████████████████████████▍         | 2214/2525 [15:21<01:38,  3.15it/s]"
     ]
    },
    {
     "name": "stdout",
     "output_type": "stream",
     "text": [
      "The_Characters_of_Warcraft\n"
     ]
    },
    {
     "name": "stderr",
     "output_type": "stream",
     "text": [
      "\r",
      " 88%|████████████████████████████████████████████████████████████████████▍         | 2215/2525 [15:21<01:44,  2.96it/s]"
     ]
    },
    {
     "name": "stdout",
     "output_type": "stream",
     "text": [
      "The_Characters_of_Warcraft\n"
     ]
    },
    {
     "name": "stderr",
     "output_type": "stream",
     "text": [
      "\r",
      " 88%|████████████████████████████████████████████████████████████████████▍         | 2216/2525 [15:21<01:47,  2.89it/s]"
     ]
    },
    {
     "name": "stdout",
     "output_type": "stream",
     "text": [
      "The_Characters_of_Warcraft\n"
     ]
    },
    {
     "name": "stderr",
     "output_type": "stream",
     "text": [
      "\r",
      " 88%|████████████████████████████████████████████████████████████████████▍         | 2217/2525 [15:22<01:48,  2.85it/s]"
     ]
    },
    {
     "name": "stdout",
     "output_type": "stream",
     "text": [
      "The_Characters_of_Warcraft\n"
     ]
    },
    {
     "name": "stderr",
     "output_type": "stream",
     "text": [
      "\r",
      " 88%|████████████████████████████████████████████████████████████████████▌         | 2218/2525 [15:22<01:53,  2.70it/s]"
     ]
    },
    {
     "name": "stdout",
     "output_type": "stream",
     "text": [
      "The_Characters_of_Warcraft\n"
     ]
    },
    {
     "name": "stderr",
     "output_type": "stream",
     "text": [
      " 92%|███████████████████████████████████████████████████████████████████████▍      | 2311/2525 [16:06<01:00,  3.55it/s]"
     ]
    },
    {
     "name": "stdout",
     "output_type": "stream",
     "text": [
      "Underdev\n"
     ]
    },
    {
     "name": "stderr",
     "output_type": "stream",
     "text": [
      " 96%|██████████████████████████████████████████████████████████████████████████▌   | 2415/2525 [16:47<00:45,  2.42it/s]"
     ]
    },
    {
     "name": "stdout",
     "output_type": "stream",
     "text": [
      "Warcraft_Lore\n",
      "Warcraft_Lore\n"
     ]
    },
    {
     "name": "stderr",
     "output_type": "stream",
     "text": [
      "\r",
      " 96%|██████████████████████████████████████████████████████████████████████████▋   | 2416/2525 [16:47<00:38,  2.86it/s]"
     ]
    },
    {
     "name": "stdout",
     "output_type": "stream",
     "text": [
      "Warcraft_Lore\n"
     ]
    },
    {
     "name": "stderr",
     "output_type": "stream",
     "text": [
      " 96%|██████████████████████████████████████████████████████████████████████████▋   | 2418/2525 [16:48<00:30,  3.50it/s]"
     ]
    },
    {
     "name": "stdout",
     "output_type": "stream",
     "text": [
      "Warcraft_Lore\n",
      "Warcraft_Lore\n"
     ]
    },
    {
     "name": "stderr",
     "output_type": "stream",
     "text": [
      " 96%|██████████████████████████████████████████████████████████████████████████▊   | 2420/2525 [16:48<00:25,  4.17it/s]"
     ]
    },
    {
     "name": "stdout",
     "output_type": "stream",
     "text": [
      "Warcraft_Lore\n",
      "Warcraft_Lore\n"
     ]
    },
    {
     "name": "stderr",
     "output_type": "stream",
     "text": [
      " 96%|██████████████████████████████████████████████████████████████████████████▊   | 2422/2525 [16:49<00:22,  4.66it/s]"
     ]
    },
    {
     "name": "stdout",
     "output_type": "stream",
     "text": [
      "Warcraft_Lore\n"
     ]
    },
    {
     "name": "stderr",
     "output_type": "stream",
     "text": [
      "100%|██████████████████████████████████████████████████████████████████████████████| 2525/2525 [17:26<00:00,  2.41it/s]\n"
     ]
    }
   ],
   "source": [
    "# url = \"https://wowpedia.fandom.com/wiki/Illidan_Stormrage\"\n",
    "# url = \"https://wowpedia.fandom.com/wiki/Thrall\"\n",
    "# url = \"https://wowpedia.fandom.com/wiki/Ragnaros\"\n",
    "# url = \"https://wowpedia.fandom.com/wiki/Deathwing\"\n",
    "# url = 'https://wowpedia.fandom.com/wiki/Velen'\n",
    "# url = 'https://wowpedia.fandom.com/wiki/Akama'\n",
    "# url = 'https://wowpedia.fandom.com/wiki/Thargas_Anvilmar'\n",
    "# url = 'https://wowpedia.fandom.com/wiki/Garrosh_Hellscream'\n",
    "# url = 'https://wowpedia.fandom.com/wiki/Leoroxx'\n",
    "# url = 'https://wowpedia.fandom.com/wiki/Dagran_Thaurissan'\n",
    "# url = \"https://wowpedia.fandom.com/wiki/C'Thun\"\n",
    "\n",
    "\n",
    "races = []\n",
    "affiliations = []\n",
    "\n",
    "for name in tqdm(list(df['Name'])):\n",
    "    try:\n",
    "        name = name.split(\"/\")[0].split(\"_(\")[0]\n",
    "        url = \"https://wowpedia.fandom.com/wiki/{}\".format(name)\n",
    "        html = urlopen(url).read()\n",
    "        soup = BeautifulSoup(html, features=\"html.parser\")\n",
    "\n",
    "        table =  soup.find(\"table\",{\"class\":\"infobox darktable\"})\n",
    "\n",
    "        text = table.text\n",
    "\n",
    "        race, affiliation = get_race_and_affiliation(text)\n",
    "\n",
    "        #         print(race)\n",
    "        #         print(affiliation)\n",
    "\n",
    "        races.append(race)\n",
    "        affiliations.append(affiliation)\n",
    "    except:\n",
    "        print(name)\n",
    "        races.append(0)\n",
    "        affiliations.append(0)\n",
    "   "
   ]
  },
  {
   "cell_type": "code",
   "execution_count": 25,
   "metadata": {},
   "outputs": [],
   "source": [
    "df.insert(1, 'Race', races)\n",
    "df.insert(2, 'Affiliation', affiliations)"
   ]
  },
  {
   "cell_type": "code",
   "execution_count": 55,
   "metadata": {},
   "outputs": [
    {
     "data": {
      "text/html": [
       "<div>\n",
       "<style scoped>\n",
       "    .dataframe tbody tr th:only-of-type {\n",
       "        vertical-align: middle;\n",
       "    }\n",
       "\n",
       "    .dataframe tbody tr th {\n",
       "        vertical-align: top;\n",
       "    }\n",
       "\n",
       "    .dataframe thead th {\n",
       "        text-align: right;\n",
       "    }\n",
       "</style>\n",
       "<table border=\"1\" class=\"dataframe\">\n",
       "  <thead>\n",
       "    <tr style=\"text-align: right;\">\n",
       "      <th></th>\n",
       "      <th>Name</th>\n",
       "      <th>Race</th>\n",
       "      <th>Affiliation</th>\n",
       "    </tr>\n",
       "  </thead>\n",
       "  <tbody>\n",
       "    <tr>\n",
       "      <th>0</th>\n",
       "      <td>Terokk</td>\n",
       "      <td>Arakkoa</td>\n",
       "      <td>0</td>\n",
       "    </tr>\n",
       "    <tr>\n",
       "      <th>1</th>\n",
       "      <td>Talon_King_Ikiss</td>\n",
       "      <td>Arakkoa</td>\n",
       "      <td>Other</td>\n",
       "    </tr>\n",
       "    <tr>\n",
       "      <th>2</th>\n",
       "      <td>Archimonde</td>\n",
       "      <td>Man'ari eredar</td>\n",
       "      <td>Other</td>\n",
       "    </tr>\n",
       "    <tr>\n",
       "      <th>3</th>\n",
       "      <td>Kil'jaeden</td>\n",
       "      <td>Man'ari eredar</td>\n",
       "      <td>Other</td>\n",
       "    </tr>\n",
       "    <tr>\n",
       "      <th>4</th>\n",
       "      <td>Mannoroth</td>\n",
       "      <td>Annihilan</td>\n",
       "      <td>Other</td>\n",
       "    </tr>\n",
       "    <tr>\n",
       "      <th>...</th>\n",
       "      <td>...</td>\n",
       "      <td>...</td>\n",
       "      <td>...</td>\n",
       "    </tr>\n",
       "    <tr>\n",
       "      <th>2480</th>\n",
       "      <td>the_Jade_Warlord</td>\n",
       "      <td>Mogu</td>\n",
       "      <td>0</td>\n",
       "    </tr>\n",
       "    <tr>\n",
       "      <th>2481</th>\n",
       "      <td>the_Jailer</td>\n",
       "      <td>Eternal One</td>\n",
       "      <td>Other</td>\n",
       "    </tr>\n",
       "    <tr>\n",
       "      <th>2482</th>\n",
       "      <td>the_Monkey_King</td>\n",
       "      <td>Hozen</td>\n",
       "      <td>Other</td>\n",
       "    </tr>\n",
       "    <tr>\n",
       "      <th>2483</th>\n",
       "      <td>the_Stonewright</td>\n",
       "      <td>Venthyr</td>\n",
       "      <td>Other</td>\n",
       "    </tr>\n",
       "    <tr>\n",
       "      <th>2484</th>\n",
       "      <td>the_Tithelord</td>\n",
       "      <td>Venthyr</td>\n",
       "      <td>Other</td>\n",
       "    </tr>\n",
       "  </tbody>\n",
       "</table>\n",
       "<p>2485 rows × 3 columns</p>\n",
       "</div>"
      ],
      "text/plain": [
       "                  Name            Race Affiliation\n",
       "0               Terokk         Arakkoa           0\n",
       "1     Talon_King_Ikiss         Arakkoa       Other\n",
       "2           Archimonde  Man'ari eredar       Other\n",
       "3           Kil'jaeden  Man'ari eredar       Other\n",
       "4            Mannoroth       Annihilan       Other\n",
       "...                ...             ...         ...\n",
       "2480  the_Jade_Warlord            Mogu           0\n",
       "2481        the_Jailer     Eternal One       Other\n",
       "2482   the_Monkey_King           Hozen       Other\n",
       "2483   the_Stonewright         Venthyr       Other\n",
       "2484     the_Tithelord         Venthyr       Other\n",
       "\n",
       "[2485 rows x 3 columns]"
      ]
     },
     "execution_count": 55,
     "metadata": {},
     "output_type": "execute_result"
    }
   ],
   "source": [
    "# remove the \"Warcraft_Lore\" and \"The_Characters_of_Warcraft\" characters\n",
    "\n",
    "df = df.iloc[[i for i in range(len(df)) if 'Warcraft' not in df.iloc[i]['Name']]]\n",
    "# reset index\n",
    "df.reset_index(drop=True, inplace=True)\n",
    "df"
   ]
  },
  {
   "cell_type": "code",
   "execution_count": 56,
   "metadata": {},
   "outputs": [],
   "source": [
    "with open('df.pickle', 'wb') as handle:\n",
    "    pickle.dump(df, handle, protocol=pickle.HIGHEST_PROTOCOL)"
   ]
  }
 ],
 "metadata": {
  "kernelspec": {
   "display_name": "Python 3",
   "language": "python",
   "name": "python3"
  },
  "language_info": {
   "codemirror_mode": {
    "name": "ipython",
    "version": 3
   },
   "file_extension": ".py",
   "mimetype": "text/x-python",
   "name": "python",
   "nbconvert_exporter": "python",
   "pygments_lexer": "ipython3",
   "version": "3.8.5"
  }
 },
 "nbformat": 4,
 "nbformat_minor": 4
}
