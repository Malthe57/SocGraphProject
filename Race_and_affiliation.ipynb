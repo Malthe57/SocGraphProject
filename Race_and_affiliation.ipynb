{
 "cells": [
  {
   "cell_type": "code",
   "execution_count": 1,
   "metadata": {},
   "outputs": [],
   "source": [
    "from urllib.request import urlopen\n",
    "from bs4 import BeautifulSoup\n",
    "import pandas as pd\n",
    "import requests\n",
    "import mwparserfromhell\n",
    "import urllib.request\n",
    "import json\n",
    "import re\n",
    "import pandas as pd\n",
    "from tqdm import tqdm\n",
    "import pickle\n"
   ]
  },
  {
   "cell_type": "code",
   "execution_count": 2,
   "metadata": {},
   "outputs": [],
   "source": [
    "def get_race(tokens, i):\n",
    "    \n",
    "    regex_expressions = re.findall('^[a-zA-z ]+', tokens[i+1])\n",
    "    \n",
    "    # join into word\n",
    "    \n",
    "    race = \" \".join(regex_expressions).strip()\n",
    "    \n",
    "    return race\n",
    "\n",
    "def get_affiliation(tokens, i):\n",
    "    to_string = ' '.join(tokens[i:])\n",
    "    regex_expressions = re.findall('[a-zA-z ]+', to_string)\n",
    "    regex_expressions = [k.strip() for k in regex_expressions]\n",
    "    \n",
    "    if \"Horde\" in regex_expressions:\n",
    "        affiliation = \"Horde\"\n",
    "    elif \"Alliance\" in regex_expressions:\n",
    "        affiliation = 'Alliance'\n",
    "    else:\n",
    "        affiliation = 'Other'\n",
    "        \n",
    "    return affiliation"
   ]
  },
  {
   "cell_type": "code",
   "execution_count": 3,
   "metadata": {},
   "outputs": [],
   "source": [
    "def get_race_and_affiliation(text):\n",
    "\n",
    "    regex1 = '[a-zA-Z][^A-Z]*'\n",
    "    regex2 = '^[a-zA-z ]+'\n",
    "    regex3 = '[a-zA-z ]+'\n",
    "\n",
    "    tokens = re.findall('[a-zA-Z][^A-Z]*', text.replace(\"\\n\",\"\"))\n",
    "\n",
    "    race = 0\n",
    "    affiliation = 0\n",
    "\n",
    "    for i, word in enumerate(tokens):\n",
    "        if word[:4] == 'Race':\n",
    "            race = get_race(tokens,i)\n",
    "        elif word[:11] == 'Affiliation':\n",
    "            affiliation = get_affiliation(tokens,i)\n",
    "    \n",
    "    return race, affiliation\n"
   ]
  },
  {
   "cell_type": "code",
   "execution_count": 4,
   "metadata": {},
   "outputs": [],
   "source": [
    "with open('df.pickle', 'rb') as handle:\n",
    "    df = pickle.load(handle)"
   ]
  },
  {
   "cell_type": "code",
   "execution_count": 5,
   "metadata": {
    "scrolled": false
   },
   "outputs": [
    {
     "name": "stderr",
     "output_type": "stream",
     "text": [
      " 17%|█████████████▍                                                                 | 336/1972 [04:11<25:10,  1.08it/s]"
     ]
    },
    {
     "name": "stdout",
     "output_type": "stream",
     "text": [
      "Angelista\n"
     ]
    },
    {
     "name": "stderr",
     "output_type": "stream",
     "text": [
      " 18%|██████████████▍                                                                | 359/1972 [04:28<17:15,  1.56it/s]"
     ]
    },
    {
     "name": "stdout",
     "output_type": "stream",
     "text": [
      "Archetus_the_Mad_Designer\n"
     ]
    },
    {
     "name": "stderr",
     "output_type": "stream",
     "text": [
      " 21%|████████████████▊                                                              | 419/1972 [05:03<16:10,  1.60it/s]"
     ]
    },
    {
     "name": "stdout",
     "output_type": "stream",
     "text": [
      "Bernard\n"
     ]
    },
    {
     "name": "stderr",
     "output_type": "stream",
     "text": [
      " 23%|█████████████████▊                                                             | 446/1972 [05:21<21:42,  1.17it/s]"
     ]
    },
    {
     "name": "stdout",
     "output_type": "stream",
     "text": [
      "Bombshell_Belle\n"
     ]
    },
    {
     "name": "stderr",
     "output_type": "stream",
     "text": [
      " 25%|████████████████████                                                           | 500/1972 [05:56<16:24,  1.50it/s]"
     ]
    },
    {
     "name": "stdout",
     "output_type": "stream",
     "text": [
      "Captain_Winky\n"
     ]
    },
    {
     "name": "stderr",
     "output_type": "stream",
     "text": [
      " 29%|██████████████████████▌                                                        | 563/1972 [06:37<18:57,  1.24it/s]"
     ]
    },
    {
     "name": "stdout",
     "output_type": "stream",
     "text": [
      "Cynthia_Wallerby\n"
     ]
    },
    {
     "name": "stderr",
     "output_type": "stream",
     "text": [
      " 30%|████████████████████████                                                       | 600/1972 [07:00<15:02,  1.52it/s]"
     ]
    },
    {
     "name": "stdout",
     "output_type": "stream",
     "text": [
      "Devin\n"
     ]
    },
    {
     "name": "stderr",
     "output_type": "stream",
     "text": [
      " 31%|████████████████████████▏                                                      | 604/1972 [07:03<16:04,  1.42it/s]"
     ]
    },
    {
     "name": "stdout",
     "output_type": "stream",
     "text": [
      "Diesalven\n"
     ]
    },
    {
     "name": "stderr",
     "output_type": "stream",
     "text": [
      " 31%|████████████████████████▎                                                      | 606/1972 [07:04<16:28,  1.38it/s]"
     ]
    },
    {
     "name": "stdout",
     "output_type": "stream",
     "text": [
      "Doctor_Lapidis\n"
     ]
    },
    {
     "name": "stderr",
     "output_type": "stream",
     "text": [
      " 31%|████████████████████████▉                                                      | 621/1972 [07:15<15:02,  1.50it/s]"
     ]
    },
    {
     "name": "stdout",
     "output_type": "stream",
     "text": [
      "Dresh-Khevan\n"
     ]
    },
    {
     "name": "stderr",
     "output_type": "stream",
     "text": [
      " 35%|███████████████████████████▎                                                   | 683/1972 [07:55<13:49,  1.55it/s]"
     ]
    },
    {
     "name": "stdout",
     "output_type": "stream",
     "text": [
      "Faedra_Ambershade\n"
     ]
    },
    {
     "name": "stderr",
     "output_type": "stream",
     "text": [
      " 35%|███████████████████████████▊                                                   | 693/1972 [08:03<16:19,  1.31it/s]"
     ]
    },
    {
     "name": "stdout",
     "output_type": "stream",
     "text": [
      "Fara_Boltbreaker\n"
     ]
    },
    {
     "name": "stderr",
     "output_type": "stream",
     "text": [
      " 36%|████████████████████████████▎                                                  | 706/1972 [08:12<15:23,  1.37it/s]"
     ]
    },
    {
     "name": "stdout",
     "output_type": "stream",
     "text": [
      "Fennimore_Quigley\n"
     ]
    },
    {
     "name": "stderr",
     "output_type": "stream",
     "text": [
      " 37%|████████████████████████████▊                                                  | 720/1972 [08:21<12:21,  1.69it/s]"
     ]
    },
    {
     "name": "stdout",
     "output_type": "stream",
     "text": [
      "Foror\n"
     ]
    },
    {
     "name": "stderr",
     "output_type": "stream",
     "text": [
      " 38%|██████████████████████████████▎                                                | 757/1972 [08:43<11:56,  1.70it/s]"
     ]
    },
    {
     "name": "stdout",
     "output_type": "stream",
     "text": [
      "General_Dugall\n"
     ]
    },
    {
     "name": "stderr",
     "output_type": "stream",
     "text": [
      " 40%|███████████████████████████████▌                                               | 789/1972 [09:00<11:08,  1.77it/s]"
     ]
    },
    {
     "name": "stdout",
     "output_type": "stream",
     "text": [
      "Gorrog\n"
     ]
    },
    {
     "name": "stderr",
     "output_type": "stream",
     "text": [
      " 43%|█████████████████████████████████▊                                             | 844/1972 [09:32<12:12,  1.54it/s]"
     ]
    },
    {
     "name": "stdout",
     "output_type": "stream",
     "text": [
      "Hale_Magefire\n"
     ]
    },
    {
     "name": "stderr",
     "output_type": "stream",
     "text": [
      " 45%|███████████████████████████████████▌                                           | 888/1972 [10:03<11:10,  1.62it/s]"
     ]
    },
    {
     "name": "stdout",
     "output_type": "stream",
     "text": [
      "High_Priestess_Navi_DeRolan\n"
     ]
    },
    {
     "name": "stderr",
     "output_type": "stream",
     "text": [
      " 46%|████████████████████████████████████▎                                          | 905/1972 [10:16<11:56,  1.49it/s]"
     ]
    },
    {
     "name": "stdout",
     "output_type": "stream",
     "text": [
      "Hotfix\n"
     ]
    },
    {
     "name": "stderr",
     "output_type": "stream",
     "text": [
      " 46%|████████████████████████████████████▋                                          | 915/1972 [10:22<10:09,  1.73it/s]"
     ]
    },
    {
     "name": "stdout",
     "output_type": "stream",
     "text": [
      "IR-T0\n"
     ]
    },
    {
     "name": "stderr",
     "output_type": "stream",
     "text": [
      " 49%|██████████████████████████████████████▍                                        | 960/1972 [10:48<09:39,  1.75it/s]"
     ]
    },
    {
     "name": "stdout",
     "output_type": "stream",
     "text": [
      "Jaimil_Lightheart\n"
     ]
    },
    {
     "name": "stderr",
     "output_type": "stream",
     "text": [
      " 51%|███████████████████████████████████████▌                                      | 1000/1972 [11:16<09:56,  1.63it/s]"
     ]
    },
    {
     "name": "stdout",
     "output_type": "stream",
     "text": [
      "Jinxy_the_Weasel\n"
     ]
    },
    {
     "name": "stderr",
     "output_type": "stream",
     "text": [
      " 52%|████████████████████████████████████████▊                                     | 1031/1972 [11:42<11:36,  1.35it/s]"
     ]
    },
    {
     "name": "stdout",
     "output_type": "stream",
     "text": [
      "Kam_Xi'raff\n"
     ]
    },
    {
     "name": "stderr",
     "output_type": "stream",
     "text": [
      " 54%|█████████████████████████████████████████▊                                    | 1058/1972 [12:04<09:46,  1.56it/s]"
     ]
    },
    {
     "name": "stdout",
     "output_type": "stream",
     "text": [
      "Keeper_of_storms\n"
     ]
    },
    {
     "name": "stderr",
     "output_type": "stream",
     "text": [
      " 54%|██████████████████████████████████████████▍                                   | 1073/1972 [12:14<10:01,  1.50it/s]"
     ]
    },
    {
     "name": "stdout",
     "output_type": "stream",
     "text": [
      "Khan_Bloodhoof\n"
     ]
    },
    {
     "name": "stderr",
     "output_type": "stream",
     "text": [
      " 55%|██████████████████████████████████████████▋                                   | 1080/1972 [12:19<09:18,  1.60it/s]"
     ]
    },
    {
     "name": "stdout",
     "output_type": "stream",
     "text": [
      "Kil'brek_the_Consumer\n"
     ]
    },
    {
     "name": "stderr",
     "output_type": "stream",
     "text": [
      " 57%|████████████████████████████████████████████▊                                 | 1133/1972 [12:49<10:25,  1.34it/s]"
     ]
    },
    {
     "name": "stdout",
     "output_type": "stream",
     "text": [
      "Ksu'la\n"
     ]
    },
    {
     "name": "stderr",
     "output_type": "stream",
     "text": [
      " 62%|████████████████████████████████████████████████▍                             | 1225/1972 [13:52<09:13,  1.35it/s]"
     ]
    },
    {
     "name": "stdout",
     "output_type": "stream",
     "text": [
      "Mac\n"
     ]
    },
    {
     "name": "stderr",
     "output_type": "stream",
     "text": [
      " 63%|████████████████████████████████████████████████▉                             | 1236/1972 [13:58<07:20,  1.67it/s]"
     ]
    },
    {
     "name": "stdout",
     "output_type": "stream",
     "text": [
      "Makkari\n"
     ]
    },
    {
     "name": "stderr",
     "output_type": "stream",
     "text": [
      " 64%|█████████████████████████████████████████████████▉                            | 1261/1972 [14:14<07:32,  1.57it/s]"
     ]
    },
    {
     "name": "stdout",
     "output_type": "stream",
     "text": [
      "Margulf_Blaggon\n"
     ]
    },
    {
     "name": "stderr",
     "output_type": "stream",
     "text": [
      " 69%|██████████████████████████████████████████████████████                        | 1367/1972 [15:23<06:40,  1.51it/s]"
     ]
    },
    {
     "name": "stdout",
     "output_type": "stream",
     "text": [
      "Nal_Fizzletongue\n"
     ]
    },
    {
     "name": "stderr",
     "output_type": "stream",
     "text": [
      " 74%|█████████████████████████████████████████████████████████▉                    | 1466/1972 [16:35<05:57,  1.41it/s]"
     ]
    },
    {
     "name": "stdout",
     "output_type": "stream",
     "text": [
      "Prophet_Kheva\n"
     ]
    },
    {
     "name": "stderr",
     "output_type": "stream",
     "text": [
      " 74%|██████████████████████████████████████████████████████████                    | 1469/1972 [16:37<06:39,  1.26it/s]"
     ]
    },
    {
     "name": "stdout",
     "output_type": "stream",
     "text": [
      "Pyramond\n"
     ]
    },
    {
     "name": "stderr",
     "output_type": "stream",
     "text": [
      " 78%|█████████████████████████████████████████████████████████████                 | 1543/1972 [17:27<04:35,  1.56it/s]"
     ]
    },
    {
     "name": "stdout",
     "output_type": "stream",
     "text": [
      "Roxxie_Rocketgrip\n"
     ]
    },
    {
     "name": "stderr",
     "output_type": "stream",
     "text": [
      " 79%|█████████████████████████████████████████████████████████████▋                | 1561/1972 [17:39<04:54,  1.40it/s]"
     ]
    },
    {
     "name": "stdout",
     "output_type": "stream",
     "text": [
      "Saegan\n"
     ]
    },
    {
     "name": "stderr",
     "output_type": "stream",
     "text": [
      " 79%|█████████████████████████████████████████████████████████████▊                | 1564/1972 [17:40<04:07,  1.65it/s]"
     ]
    },
    {
     "name": "stdout",
     "output_type": "stream",
     "text": [
      "Salzhigh\n"
     ]
    },
    {
     "name": "stderr",
     "output_type": "stream",
     "text": [
      " 80%|██████████████████████████████████████████████████████████████▌               | 1582/1972 [17:51<04:08,  1.57it/s]"
     ]
    },
    {
     "name": "stdout",
     "output_type": "stream",
     "text": [
      "Scourge_Engineer_Karomon\n"
     ]
    },
    {
     "name": "stderr",
     "output_type": "stream",
     "text": [
      " 81%|██████████████████████████████████████████████████████████████▉               | 1591/1972 [17:57<04:00,  1.58it/s]"
     ]
    },
    {
     "name": "stdout",
     "output_type": "stream",
     "text": [
      "Sentinel_Shal'raven\n"
     ]
    },
    {
     "name": "stderr",
     "output_type": "stream",
     "text": [
      " 82%|███████████████████████████████████████████████████████████████▊              | 1612/1972 [18:10<03:19,  1.81it/s]"
     ]
    },
    {
     "name": "stdout",
     "output_type": "stream",
     "text": [
      "Sharptooth\n"
     ]
    },
    {
     "name": "stderr",
     "output_type": "stream",
     "text": [
      " 82%|████████████████████████████████████████████████████████████████▏             | 1622/1972 [18:16<02:55,  2.00it/s]"
     ]
    },
    {
     "name": "stdout",
     "output_type": "stream",
     "text": [
      "Shisai\n"
     ]
    },
    {
     "name": "stderr",
     "output_type": "stream",
     "text": [
      " 83%|████████████████████████████████████████████████████████████████▋             | 1636/1972 [18:25<03:26,  1.63it/s]"
     ]
    },
    {
     "name": "stdout",
     "output_type": "stream",
     "text": [
      "Skitter\n"
     ]
    },
    {
     "name": "stderr",
     "output_type": "stream",
     "text": [
      " 87%|███████████████████████████████████████████████████████████████████▉          | 1718/1972 [19:13<02:05,  2.02it/s]"
     ]
    },
    {
     "name": "stdout",
     "output_type": "stream",
     "text": [
      "Tazerath_of_Seven_Seas_of_Sand\n"
     ]
    },
    {
     "name": "stderr",
     "output_type": "stream",
     "text": [
      " 89%|█████████████████████████████████████████████████████████████████████▏        | 1749/1972 [19:32<02:54,  1.28it/s]"
     ]
    },
    {
     "name": "stdout",
     "output_type": "stream",
     "text": [
      "Theleste\n"
     ]
    },
    {
     "name": "stderr",
     "output_type": "stream",
     "text": [
      " 90%|█████████████████████████████████████████████████████████████████████▉        | 1767/1972 [19:44<02:03,  1.66it/s]"
     ]
    },
    {
     "name": "stdout",
     "output_type": "stream",
     "text": [
      "Tidebearer\n"
     ]
    },
    {
     "name": "stderr",
     "output_type": "stream",
     "text": [
      " 90%|██████████████████████████████████████████████████████████████████████        | 1771/1972 [19:47<02:17,  1.46it/s]"
     ]
    },
    {
     "name": "stdout",
     "output_type": "stream",
     "text": [
      "Tigule\n"
     ]
    },
    {
     "name": "stderr",
     "output_type": "stream",
     "text": [
      "100%|██████████████████████████████████████████████████████████████████████████████| 1972/1972 [21:58<00:00,  1.50it/s]\n"
     ]
    }
   ],
   "source": [
    "# url = \"https://wowpedia.fandom.com/wiki/Illidan_Stormrage\"\n",
    "# url = \"https://wowpedia.fandom.com/wiki/Thrall\"\n",
    "# url = \"https://wowpedia.fandom.com/wiki/Ragnaros\"\n",
    "# url = \"https://wowpedia.fandom.com/wiki/Deathwing\"\n",
    "\n",
    "races = []\n",
    "affiliations = []\n",
    "\n",
    "for name in tqdm(list(df['Name'])):\n",
    "    try:\n",
    "        name = name.split(\"/\")[0].split(\"_(\")[0]\n",
    "        url = \"https://wowpedia.fandom.com/wiki/{}\".format(name)\n",
    "\n",
    "        html = urlopen(url).read()\n",
    "        soup = BeautifulSoup(html, features=\"html.parser\")\n",
    "\n",
    "        table = soup.find_all('table')[0]\n",
    "\n",
    "        text = table.text\n",
    "        # print(table.text)\n",
    "\n",
    "        race, affiliation = get_race_and_affiliation(text)\n",
    "\n",
    "        races.append(race)\n",
    "        affiliations.append(affiliation)\n",
    "    except:\n",
    "        print(name)\n",
    "        races.append(0)\n",
    "        affiliations.append(0)\n",
    "    \n",
    "df.insert(3, 'Race', races)\n",
    "df.insert(4, 'Affiliation', affiliations)\n",
    "    \n",
    "\n",
    "\n",
    "\n"
   ]
  },
  {
   "cell_type": "code",
   "execution_count": 15,
   "metadata": {},
   "outputs": [
    {
     "data": {
      "text/html": [
       "<div>\n",
       "<style scoped>\n",
       "    .dataframe tbody tr th:only-of-type {\n",
       "        vertical-align: middle;\n",
       "    }\n",
       "\n",
       "    .dataframe tbody tr th {\n",
       "        vertical-align: top;\n",
       "    }\n",
       "\n",
       "    .dataframe thead th {\n",
       "        text-align: right;\n",
       "    }\n",
       "</style>\n",
       "<table border=\"1\" class=\"dataframe\">\n",
       "  <thead>\n",
       "    <tr style=\"text-align: right;\">\n",
       "      <th></th>\n",
       "      <th>Name</th>\n",
       "      <th>Race</th>\n",
       "      <th>Affiliation</th>\n",
       "      <th>Clean Text</th>\n",
       "      <th>Out Links</th>\n",
       "    </tr>\n",
       "  </thead>\n",
       "  <tbody>\n",
       "    <tr>\n",
       "      <th>0</th>\n",
       "      <td>Terokk</td>\n",
       "      <td>Arakkoa</td>\n",
       "      <td>0</td>\n",
       "      <td>Terokk was the greatest king of the arakkoa. T...</td>\n",
       "      <td>[Anzu, Rukhmar, Sethe, Talon_King_Ikiss]</td>\n",
       "    </tr>\n",
       "    <tr>\n",
       "      <th>1</th>\n",
       "      <td>Talon_King_Ikiss</td>\n",
       "      <td>Arakkoa</td>\n",
       "      <td>Other</td>\n",
       "      <td>Talon King Ikiss (pronounced Eye-kiss), the bo...</td>\n",
       "      <td>[Anzu, Sethe, Terokk]</td>\n",
       "    </tr>\n",
       "    <tr>\n",
       "      <th>2</th>\n",
       "      <td>Archimonde</td>\n",
       "      <td>Man</td>\n",
       "      <td>Other</td>\n",
       "      <td>Archimonde (pronounced ARK-i-mond) was one of ...</td>\n",
       "      <td>[Alexstrasza, Azgalor, Cenarius, Grom_Hellscre...</td>\n",
       "    </tr>\n",
       "    <tr>\n",
       "      <th>3</th>\n",
       "      <td>Kil'jaeden</td>\n",
       "      <td>Man</td>\n",
       "      <td>Other</td>\n",
       "      <td>Kil'jaeden (sometimes spelled as Kil'Jaeden)Ar...</td>\n",
       "      <td>[Archimonde, Arthas_Menethil, Garrosh_Hellscre...</td>\n",
       "    </tr>\n",
       "    <tr>\n",
       "      <th>4</th>\n",
       "      <td>Mannoroth</td>\n",
       "      <td>Annihilan</td>\n",
       "      <td>Other</td>\n",
       "      <td>Mannoroth was the barbaric leader of the pit l...</td>\n",
       "      <td>[Archimonde, Cenarius, Durotan, Garrosh_Hellsc...</td>\n",
       "    </tr>\n",
       "    <tr>\n",
       "      <th>...</th>\n",
       "      <td>...</td>\n",
       "      <td>...</td>\n",
       "      <td>...</td>\n",
       "      <td>...</td>\n",
       "      <td>...</td>\n",
       "    </tr>\n",
       "    <tr>\n",
       "      <th>1967</th>\n",
       "      <td>Zur'ak_Firefist</td>\n",
       "      <td>Jungle troll</td>\n",
       "      <td>Other</td>\n",
       "      <td>Zur'ak Firefist is a troll shaman with the Ear...</td>\n",
       "      <td>[Drek'Thar, Kettara_Bloodthirst, Krelna, Lenka...</td>\n",
       "    </tr>\n",
       "    <tr>\n",
       "      <th>1968</th>\n",
       "      <td>Zuura</td>\n",
       "      <td>Orc</td>\n",
       "      <td>Other</td>\n",
       "      <td>left|thumb|Family tree.\\nZuura, mate of Kelkar...</td>\n",
       "      <td>[Durotan, Garad, Kelkar, Rehze, Rhakish, Thrall]</td>\n",
       "    </tr>\n",
       "    <tr>\n",
       "      <th>1969</th>\n",
       "      <td>Zuuzuu</td>\n",
       "      <td>Troll</td>\n",
       "      <td>Other</td>\n",
       "      <td>Zuuzuu was a troll member of the Twilight's Ha...</td>\n",
       "      <td>[Chromatus, Josah, Kirygosa]</td>\n",
       "    </tr>\n",
       "    <tr>\n",
       "      <th>1970</th>\n",
       "      <td>Zuzak</td>\n",
       "      <td>Goblin</td>\n",
       "      <td>Other</td>\n",
       "      <td>Zuzak was assigned to Ziya's plundersquad, whi...</td>\n",
       "      <td>[Ziya]</td>\n",
       "    </tr>\n",
       "    <tr>\n",
       "      <th>1971</th>\n",
       "      <td>Zzeraku</td>\n",
       "      <td>Nether dragon</td>\n",
       "      <td>Other</td>\n",
       "      <td>Zzeraku was a nether dragon taken captive by S...</td>\n",
       "      <td>[Arygos, Dargonax, Deathwing, Iridi, Jorad_Mac...</td>\n",
       "    </tr>\n",
       "  </tbody>\n",
       "</table>\n",
       "<p>1972 rows × 5 columns</p>\n",
       "</div>"
      ],
      "text/plain": [
       "                  Name           Race Affiliation  \\\n",
       "0               Terokk        Arakkoa           0   \n",
       "1     Talon_King_Ikiss        Arakkoa       Other   \n",
       "2           Archimonde            Man       Other   \n",
       "3           Kil'jaeden            Man       Other   \n",
       "4            Mannoroth      Annihilan       Other   \n",
       "...                ...            ...         ...   \n",
       "1967   Zur'ak_Firefist   Jungle troll       Other   \n",
       "1968             Zuura            Orc       Other   \n",
       "1969            Zuuzuu          Troll       Other   \n",
       "1970             Zuzak         Goblin       Other   \n",
       "1971           Zzeraku  Nether dragon       Other   \n",
       "\n",
       "                                             Clean Text  \\\n",
       "0     Terokk was the greatest king of the arakkoa. T...   \n",
       "1     Talon King Ikiss (pronounced Eye-kiss), the bo...   \n",
       "2     Archimonde (pronounced ARK-i-mond) was one of ...   \n",
       "3     Kil'jaeden (sometimes spelled as Kil'Jaeden)Ar...   \n",
       "4     Mannoroth was the barbaric leader of the pit l...   \n",
       "...                                                 ...   \n",
       "1967  Zur'ak Firefist is a troll shaman with the Ear...   \n",
       "1968  left|thumb|Family tree.\\nZuura, mate of Kelkar...   \n",
       "1969  Zuuzuu was a troll member of the Twilight's Ha...   \n",
       "1970  Zuzak was assigned to Ziya's plundersquad, whi...   \n",
       "1971  Zzeraku was a nether dragon taken captive by S...   \n",
       "\n",
       "                                              Out Links  \n",
       "0              [Anzu, Rukhmar, Sethe, Talon_King_Ikiss]  \n",
       "1                                 [Anzu, Sethe, Terokk]  \n",
       "2     [Alexstrasza, Azgalor, Cenarius, Grom_Hellscre...  \n",
       "3     [Archimonde, Arthas_Menethil, Garrosh_Hellscre...  \n",
       "4     [Archimonde, Cenarius, Durotan, Garrosh_Hellsc...  \n",
       "...                                                 ...  \n",
       "1967  [Drek'Thar, Kettara_Bloodthirst, Krelna, Lenka...  \n",
       "1968   [Durotan, Garad, Kelkar, Rehze, Rhakish, Thrall]  \n",
       "1969                       [Chromatus, Josah, Kirygosa]  \n",
       "1970                                             [Ziya]  \n",
       "1971  [Arygos, Dargonax, Deathwing, Iridi, Jorad_Mac...  \n",
       "\n",
       "[1972 rows x 5 columns]"
      ]
     },
     "execution_count": 15,
     "metadata": {},
     "output_type": "execute_result"
    }
   ],
   "source": [
    "df\n"
   ]
  },
  {
   "cell_type": "code",
   "execution_count": 14,
   "metadata": {},
   "outputs": [],
   "source": [
    "with open('df.pickle', 'wb') as handle:\n",
    "    pickle.dump(df, handle, protocol=pickle.HIGHEST_PROTOCOL)"
   ]
  }
 ],
 "metadata": {
  "kernelspec": {
   "display_name": "Python 3",
   "language": "python",
   "name": "python3"
  },
  "language_info": {
   "codemirror_mode": {
    "name": "ipython",
    "version": 3
   },
   "file_extension": ".py",
   "mimetype": "text/x-python",
   "name": "python",
   "nbconvert_exporter": "python",
   "pygments_lexer": "ipython3",
   "version": "3.8.5"
  }
 },
 "nbformat": 4,
 "nbformat_minor": 4
}
