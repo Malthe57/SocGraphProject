{
 "cells": [
  {
   "cell_type": "code",
   "execution_count": 1,
   "metadata": {},
   "outputs": [
    {
     "name": "stderr",
     "output_type": "stream",
     "text": [
      "C:\\Users\\Yucheng\\anaconda3\\lib\\site-packages\\transformers\\pipelines\\text_classification.py:89: UserWarning: `return_all_scores` is now deprecated,  if want a similar funcionality use `top_k=None` instead of `return_all_scores=True` or `top_k=1` instead of `return_all_scores=False`.\n",
      "  warnings.warn(\n"
     ]
    }
   ],
   "source": [
    "from urllib.request import urlopen\n",
    "from bs4 import BeautifulSoup\n",
    "import pandas as pd\n",
    "from tqdm.notebook import tqdm\n",
    "import pickle\n",
    "import requests\n",
    "import re\n",
    "import numpy as np\n",
    "from transformers import pipeline\n",
    "from tqdm.notebook import tqdm\n",
    "import numpy as np\n",
    "import matplotlib.pyplot as plt\n",
    "import matplotlib.tri as tri\n",
    "classifier = pipeline(\"text-classification\",model='bhadresh-savani/bert-base-uncased-emotion', return_all_scores=True)\n",
    "from afinn import Afinn\n",
    "from collections import defaultdict\n",
    "sent_lexicon = defaultdict(lambda: 0, Afinn()._dict)\n"
   ]
  },
  {
   "cell_type": "code",
   "execution_count": 2,
   "metadata": {},
   "outputs": [],
   "source": [
    "with open('df_text.pickle', 'rb') as handle:\n",
    "    df_text = pickle.load(handle)"
   ]
  },
  {
   "cell_type": "code",
   "execution_count": 3,
   "metadata": {
    "scrolled": true
   },
   "outputs": [
    {
     "data": {
      "application/vnd.jupyter.widget-view+json": {
       "model_id": "84ff93f616c0436ba9d5d312bb8c8d44",
       "version_major": 2,
       "version_minor": 0
      },
      "text/plain": [
       "HBox(children=(HTML(value=''), FloatProgress(value=0.0, max=2233.0), HTML(value='')))"
      ]
     },
     "metadata": {},
     "output_type": "display_data"
    },
    {
     "name": "stdout",
     "output_type": "stream",
     "text": [
      "\n"
     ]
    }
   ],
   "source": [
    "quotes_dict = {}\n",
    "exception_list = []\n",
    "\n",
    "for name in tqdm(list(df_text['Name'])):\n",
    "    try:\n",
    "        url = \"https://wowpedia.fandom.com/wiki/{}\".format(name)\n",
    "        html = urlopen(url).read()\n",
    "        soup = BeautifulSoup(html, features=\"html.parser\")\n",
    "\n",
    "        quotes = []\n",
    "        sentiment_dict = {}\n",
    "\n",
    "        target = soup.find('h2',text='Quotes') if soup.find('h2',text='Quotes') else soup.find('h2',text='Memorable quotes')\n",
    "\n",
    "\n",
    "        for sib in target.find_next_siblings():\n",
    "            if sib.name == \"h2\":\n",
    "                break\n",
    "            else:\n",
    "                if sib.name == 'ul' or sib.name == 'li':\n",
    "                    if \":\" not in sib.text:\n",
    "                        g = [t for t in sib.text.split(\"\\n\") if len(t) > 0]\n",
    "                        for j in g:\n",
    "                            quotes.append(\"\".join(j))\n",
    "\n",
    "        quotes_dict[name] = quotes\n",
    "\n",
    "        #                 if i == 2:\n",
    "        #                     break\n",
    "    except AttributeError:\n",
    "        exception_list.append(name)\n"
   ]
  },
  {
   "cell_type": "code",
   "execution_count": 4,
   "metadata": {},
   "outputs": [
    {
     "data": {
      "text/plain": [
       "['\"You\\'ll find us a sour treat.\" (Malfurion\\'s answer to Sargeras\\' threat that he will devour all of Azeroth.)',\n",
       " '\"You want power? Feel the power of the world you would betray, captain!\"',\n",
       " '\"For you, there is only the Well and the supposed might of a demon that claims godhood. For me--there\\'s the power of the world itself as my ally.\"',\n",
       " '\"You have betrayed too many, you have hurt too many, lord advisor. I won\\'t let you hurt anyone, anymore. From you there will only come life from now on, not death.\"',\n",
       " '\"Hush Tyrande! Where is Illidan?',\n",
       " '\"Illidan, the Well is out of control!',\n",
       " '\"Not if we are caught up in it! Why weren\\'t you running? What have you\\'ve been doing with your hand in the Well, Illidan?',\n",
       " '\"The horn has sounded, and I have come as promised. I smell the stench of decay and corruption in our land. That angers me greatly.\"',\n",
       " '\"Oh, no. How could I have forgotten? This door leads to Illidan\\'s prison, Tyrande. We should go... now!\"',\n",
       " '\"That beast must never be set free!\"',\n",
       " '\"Illidan! You were sentenced to pay for your sins, nothing more!\"',\n",
       " '\"Whatever comes, my love, remember--our bond is eternal.\"',\n",
       " '\"If pride gives us pause, my love, then perhaps we have lived long enough already.\"',\n",
       " '\"You have brought much suffering to the world, Illidan. For that, you can never be forgiven.  However, you saved the life of my love. For that I will let you go. But, should you ever threaten my people again...\"',\n",
       " 'You are beyond being my student anymore. No student could I dare ask what I must ask you now![103]',\n",
       " '\"Hail to the night!\"',\n",
       " '\"May Elune grant us strength.\"',\n",
       " '\"How may I aid you?\"',\n",
       " '\"How may nature serve?\"',\n",
       " '\"I must protect the wild.\"',\n",
       " '\"Greetings, friend.\"',\n",
       " '\"Time wears thin.\"',\n",
       " '\"You tempt nature\\'s wrath.\"',\n",
       " '\"Time waits for no one.\"',\n",
       " '\"May nature guide your path.\"',\n",
       " '\"May the winds be at your back.\"',\n",
       " '\"Nature stands with you.\"']"
      ]
     },
     "execution_count": 4,
     "metadata": {},
     "output_type": "execute_result"
    }
   ],
   "source": [
    "quotes_dict['Malfurion_Stormrage']"
   ]
  },
  {
   "cell_type": "code",
   "execution_count": 5,
   "metadata": {},
   "outputs": [
    {
     "name": "stdout",
     "output_type": "stream",
     "text": [
      "{'sadness': 0, 'joy': 12, 'love': 0, 'anger': 14, 'fear': 1, 'surprise': 0}\n"
     ]
    }
   ],
   "source": [
    "emotions = ['sadness', 'joy', 'love', 'anger', 'fear', 'surprise']\n",
    "emotion_dict = {key: 0 for key in emotions}\n",
    "\n",
    "quotes = quotes_dict['Malfurion_Stormrage']\n",
    "\n",
    "for q in quotes:\n",
    "    prediction = classifier(q)[0]\n",
    "    prediction = [list(i.items()) for i in prediction]\n",
    "    \n",
    "    emo = sorted(prediction, key=lambda x:x[1], reverse=True)[0][0][1]\n",
    "    emotion_dict[emo] += 1 \n",
    "\n",
    "print(emotion_dict)"
   ]
  },
  {
   "cell_type": "code",
   "execution_count": 6,
   "metadata": {},
   "outputs": [
    {
     "name": "stdout",
     "output_type": "stream",
     "text": [
      "[0.0, 0.4444444444444444, 0.0, 0.5185185185185185, 0.037037037037037035, 0.0]\n",
      "[0.5, 0.7222222222222222, 0.5, 0.7592592592592593, 0.5185185185185185, 0.5]\n"
     ]
    }
   ],
   "source": [
    "proportions = list([(e / len(quotes)) for e in emotion_dict.values()] ) \n",
    "\n",
    "max_new = 1\n",
    "max_old = 1\n",
    "min_new = 0.5\n",
    "min_old = 0\n",
    "# from https://stats.stackexchange.com/a/286273\n",
    "proportions2 = [(max_new - min_new) / (max_old - min_old) * ((e / len(quotes)) - max_old) + max_new  for e in emotion_dict.values()]\n",
    "\n",
    "print(proportions)\n",
    "print(proportions2)"
   ]
  },
  {
   "cell_type": "code",
   "execution_count": 7,
   "metadata": {},
   "outputs": [
    {
     "data": {
      "image/png": "[encoded data removed]",
      "text/plain": [
       "<Figure size 432x288 with 1 Axes>"
      ]
     },
     "metadata": {
      "needs_background": "light"
     },
     "output_type": "display_data"
    }
   ],
   "source": [
    "# Adapted from: https://stackoverflow.com/a/65727591\n",
    "\n",
    "proportions = proportions2\n",
    "labels = list(emotion_dict.keys())\n",
    "N = len(proportions2)\n",
    "proportions = np.append(proportions2, 1)\n",
    "theta = np.linspace(0, 2 * np.pi, N, endpoint=False)\n",
    "x = np.append(np.sin(theta), 0)\n",
    "y = np.append(np.cos(theta), 0)\n",
    "triangles = [[N, i, (i + 1) % N] for i in range(N)]\n",
    "triang_backgr = tri.Triangulation(x, y, triangles)\n",
    "triang_foregr = tri.Triangulation(x * proportions, y * proportions, triangles)\n",
    "cmap = plt.cm.rainbow_r  # or plt.cm.hsv ?\n",
    "colors = np.linspace(0, 1, N + 1)\n",
    "plt.tripcolor(triang_backgr, colors, cmap=cmap, shading='gouraud', alpha=0.4)\n",
    "plt.tripcolor(triang_foregr, colors, cmap=cmap, shading='gouraud', alpha=0.8)\n",
    "plt.triplot(triang_backgr, color='white', lw=2)\n",
    "for label, color, xi, yi in zip(labels, colors, x, y):\n",
    "    plt.text(xi * 1.05, yi * 1.05, label,  # color=cmap(color),\n",
    "             ha='left' if xi > 0.1 else 'right' if xi < -0.1 else 'center',\n",
    "             va='bottom' if yi > 0.1 else 'top' if yi < -0.1 else 'center')\n",
    "plt.axis('off')\n",
    "plt.gca().set_aspect('equal')\n",
    "plt.show()"
   ]
  },
  {
   "cell_type": "code",
   "execution_count": null,
   "metadata": {},
   "outputs": [],
   "source": []
  }
 ],
 "metadata": {
  "kernelspec": {
   "display_name": "Python 3",
   "language": "python",
   "name": "python3"
  },
  "language_info": {
   "codemirror_mode": {
    "name": "ipython",
    "version": 3
   },
   "file_extension": ".py",
   "mimetype": "text/x-python",
   "name": "python",
   "nbconvert_exporter": "python",
   "pygments_lexer": "ipython3",
   "version": "3.8.5"
  }
 },
 "nbformat": 4,
 "nbformat_minor": 4
}
