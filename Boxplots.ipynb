{
 "cells": [
  {
   "cell_type": "code",
   "execution_count": 1,
   "metadata": {},
   "outputs": [],
   "source": [
    "import pickle\n",
    "import pandas as pd\n",
    "import numpy as np\n",
    "import matplotlib.pyplot as plt \n",
    "import os\n",
    "import seaborn as sns"
   ]
  },
  {
   "cell_type": "code",
   "execution_count": 2,
   "metadata": {},
   "outputs": [],
   "source": [
    "with open('df_text.pickle', 'rb') as handle:\n",
    "    df_text = pickle.load(handle)\n",
    "    \n",
    "with open('df_meta.pickle', 'rb') as handle:\n",
    "    df_meta = pickle.load(handle)\n",
    "\n",
    "with open('GCC.pickle', 'rb') as handle:\n",
    "    DG = pickle.load(handle)"
   ]
  },
  {
   "cell_type": "code",
   "execution_count": 3,
   "metadata": {
    "scrolled": true
   },
   "outputs": [
    {
     "data": {
      "text/html": [
       "<div>\n",
       "<style scoped>\n",
       "    .dataframe tbody tr th:only-of-type {\n",
       "        vertical-align: middle;\n",
       "    }\n",
       "\n",
       "    .dataframe tbody tr th {\n",
       "        vertical-align: top;\n",
       "    }\n",
       "\n",
       "    .dataframe thead th {\n",
       "        text-align: right;\n",
       "    }\n",
       "</style>\n",
       "<table border=\"1\" class=\"dataframe\">\n",
       "  <thead>\n",
       "    <tr style=\"text-align: right;\">\n",
       "      <th></th>\n",
       "      <th>Name</th>\n",
       "      <th>Race</th>\n",
       "      <th>Affiliation</th>\n",
       "      <th>Clean Text</th>\n",
       "      <th>Out Links</th>\n",
       "    </tr>\n",
       "  </thead>\n",
       "  <tbody>\n",
       "    <tr>\n",
       "      <th>0</th>\n",
       "      <td>Terokk</td>\n",
       "      <td>Arakkoa</td>\n",
       "      <td>Other</td>\n",
       "      <td>Terokk was the greatest king of the arakkoa. T...</td>\n",
       "      <td>[Anzu, Darkweaver_Syth, Hazzik, Isfar, Kirrik_...</td>\n",
       "    </tr>\n",
       "    <tr>\n",
       "      <th>1</th>\n",
       "      <td>Talon_King_Ikiss</td>\n",
       "      <td>Arakkoa</td>\n",
       "      <td>Other</td>\n",
       "      <td>Talon King Ikiss (pronounced Eye-kiss), the bo...</td>\n",
       "      <td>[Anzu, Darkweaver_Syth, Reshad, Sethe, Terokk]</td>\n",
       "    </tr>\n",
       "    <tr>\n",
       "      <th>2</th>\n",
       "      <td>Archimonde</td>\n",
       "      <td>Man'ari eredar</td>\n",
       "      <td>Other</td>\n",
       "      <td>Archimonde (pronounced ARK-i-mond) was one of ...</td>\n",
       "      <td>[Alexstrasza, Anetheron, Archimindy, Azgalor, ...</td>\n",
       "    </tr>\n",
       "    <tr>\n",
       "      <th>3</th>\n",
       "      <td>Kil'jaeden</td>\n",
       "      <td>Man'ari eredar</td>\n",
       "      <td>Other</td>\n",
       "      <td>Kil'jaeden (sometimes spelled as Kil'Jaeden)Ar...</td>\n",
       "      <td>[Akaari_Shadowgore, Archimonde, Arthas, Arthas...</td>\n",
       "    </tr>\n",
       "    <tr>\n",
       "      <th>4</th>\n",
       "      <td>Mannoroth</td>\n",
       "      <td>Annihilan</td>\n",
       "      <td>Other</td>\n",
       "      <td>Mannoroth was the barbaric leader of the pit l...</td>\n",
       "      <td>[Archimonde, Cenarius, Durotan, Garrosh, Garro...</td>\n",
       "    </tr>\n",
       "    <tr>\n",
       "      <th>...</th>\n",
       "      <td>...</td>\n",
       "      <td>...</td>\n",
       "      <td>...</td>\n",
       "      <td>...</td>\n",
       "      <td>...</td>\n",
       "    </tr>\n",
       "    <tr>\n",
       "      <th>2228</th>\n",
       "      <td>the_Jade_Warlord</td>\n",
       "      <td>Mogu</td>\n",
       "      <td>Other</td>\n",
       "      <td>The Jade Warlord was a powerful mogu spellcast...</td>\n",
       "      <td>[Anduin_Wrynn, Monkey_King, Thunder_King]</td>\n",
       "    </tr>\n",
       "    <tr>\n",
       "      <th>2229</th>\n",
       "      <td>the_Jailer</td>\n",
       "      <td>Eternal One</td>\n",
       "      <td>Other</td>\n",
       "      <td>Zovaal, better known as the Jailer or the Bani...</td>\n",
       "      <td>[Anduin_Wrynn, Annhylde, Arbiter, Arthas_Menet...</td>\n",
       "    </tr>\n",
       "    <tr>\n",
       "      <th>2230</th>\n",
       "      <td>the_Monkey_King</td>\n",
       "      <td>Hozen</td>\n",
       "      <td>Other</td>\n",
       "      <td>The Monkey King is a hozen who was a companion...</td>\n",
       "      <td>[Anduin_Wrynn, Barnes, Emperor_Shaohao, Freya,...</td>\n",
       "    </tr>\n",
       "    <tr>\n",
       "      <th>2231</th>\n",
       "      <td>the_Stonewright</td>\n",
       "      <td>Venthyr</td>\n",
       "      <td>Other</td>\n",
       "      <td>thumb|The Stonewright in World of Warcraft.\\n\\...</td>\n",
       "      <td>[Denathrius, General_Draven, Huln_Highmountain...</td>\n",
       "    </tr>\n",
       "    <tr>\n",
       "      <th>2232</th>\n",
       "      <td>the_Tithelord</td>\n",
       "      <td>Venthyr</td>\n",
       "      <td>Other</td>\n",
       "      <td>thumb|The Tithelord in World of Warcraft.\\n\\nT...</td>\n",
       "      <td>[Baroness_Draka, Kel'Thuzad, Prince_Renathal]</td>\n",
       "    </tr>\n",
       "  </tbody>\n",
       "</table>\n",
       "<p>2233 rows × 5 columns</p>\n",
       "</div>"
      ],
      "text/plain": [
       "                  Name            Race Affiliation  \\\n",
       "0               Terokk         Arakkoa       Other   \n",
       "1     Talon_King_Ikiss         Arakkoa       Other   \n",
       "2           Archimonde  Man'ari eredar       Other   \n",
       "3           Kil'jaeden  Man'ari eredar       Other   \n",
       "4            Mannoroth       Annihilan       Other   \n",
       "...                ...             ...         ...   \n",
       "2228  the_Jade_Warlord            Mogu       Other   \n",
       "2229        the_Jailer     Eternal One       Other   \n",
       "2230   the_Monkey_King           Hozen       Other   \n",
       "2231   the_Stonewright         Venthyr       Other   \n",
       "2232     the_Tithelord         Venthyr       Other   \n",
       "\n",
       "                                             Clean Text  \\\n",
       "0     Terokk was the greatest king of the arakkoa. T...   \n",
       "1     Talon King Ikiss (pronounced Eye-kiss), the bo...   \n",
       "2     Archimonde (pronounced ARK-i-mond) was one of ...   \n",
       "3     Kil'jaeden (sometimes spelled as Kil'Jaeden)Ar...   \n",
       "4     Mannoroth was the barbaric leader of the pit l...   \n",
       "...                                                 ...   \n",
       "2228  The Jade Warlord was a powerful mogu spellcast...   \n",
       "2229  Zovaal, better known as the Jailer or the Bani...   \n",
       "2230  The Monkey King is a hozen who was a companion...   \n",
       "2231  thumb|The Stonewright in World of Warcraft.\\n\\...   \n",
       "2232  thumb|The Tithelord in World of Warcraft.\\n\\nT...   \n",
       "\n",
       "                                              Out Links  \n",
       "0     [Anzu, Darkweaver_Syth, Hazzik, Isfar, Kirrik_...  \n",
       "1        [Anzu, Darkweaver_Syth, Reshad, Sethe, Terokk]  \n",
       "2     [Alexstrasza, Anetheron, Archimindy, Azgalor, ...  \n",
       "3     [Akaari_Shadowgore, Archimonde, Arthas, Arthas...  \n",
       "4     [Archimonde, Cenarius, Durotan, Garrosh, Garro...  \n",
       "...                                                 ...  \n",
       "2228          [Anduin_Wrynn, Monkey_King, Thunder_King]  \n",
       "2229  [Anduin_Wrynn, Annhylde, Arbiter, Arthas_Menet...  \n",
       "2230  [Anduin_Wrynn, Barnes, Emperor_Shaohao, Freya,...  \n",
       "2231  [Denathrius, General_Draven, Huln_Highmountain...  \n",
       "2232      [Baroness_Draka, Kel'Thuzad, Prince_Renathal]  \n",
       "\n",
       "[2233 rows x 5 columns]"
      ]
     },
     "execution_count": 3,
     "metadata": {},
     "output_type": "execute_result"
    }
   ],
   "source": [
    "df_text"
   ]
  },
  {
   "cell_type": "code",
   "execution_count": 4,
   "metadata": {
    "scrolled": true
   },
   "outputs": [
    {
     "data": {
      "text/html": [
       "<div>\n",
       "<style scoped>\n",
       "    .dataframe tbody tr th:only-of-type {\n",
       "        vertical-align: middle;\n",
       "    }\n",
       "\n",
       "    .dataframe tbody tr th {\n",
       "        vertical-align: top;\n",
       "    }\n",
       "\n",
       "    .dataframe thead th {\n",
       "        text-align: right;\n",
       "    }\n",
       "</style>\n",
       "<table border=\"1\" class=\"dataframe\">\n",
       "  <thead>\n",
       "    <tr style=\"text-align: right;\">\n",
       "      <th></th>\n",
       "      <th>Name</th>\n",
       "      <th>Race</th>\n",
       "      <th>Affiliation</th>\n",
       "      <th>Clean Text</th>\n",
       "      <th>Out Links</th>\n",
       "    </tr>\n",
       "  </thead>\n",
       "  <tbody>\n",
       "  </tbody>\n",
       "</table>\n",
       "</div>"
      ],
      "text/plain": [
       "Empty DataFrame\n",
       "Columns: [Name, Race, Affiliation, Clean Text, Out Links]\n",
       "Index: []"
      ]
     },
     "execution_count": 4,
     "metadata": {},
     "output_type": "execute_result"
    }
   ],
   "source": [
    "df_text.loc[df_text['Name'] == 'Sylvanas_Windrunner']"
   ]
  },
  {
   "cell_type": "code",
   "execution_count": 5,
   "metadata": {},
   "outputs": [],
   "source": [
    "# sort major characters by in-degree\n",
    "A = sorted([i for i in DG.degree() if i[0] in list(df_meta['Name'])], key=lambda x: x[1], reverse=True)"
   ]
  },
  {
   "cell_type": "code",
   "execution_count": 6,
   "metadata": {
    "scrolled": false
   },
   "outputs": [],
   "source": [
    "# get character names and in-degree seperately\n",
    "B = [a[0] for a in A]\n",
    "C = [a[1] for a in A]\n",
    "# get importance for each major character\n",
    "D = [df_meta.loc[df_meta['Name'] == b]['Importance'].item() for b in B]"
   ]
  },
  {
   "cell_type": "code",
   "execution_count": 7,
   "metadata": {},
   "outputs": [],
   "source": [
    "red_indices = [i for i,x in enumerate(D) if x == 'red']\n",
    "orange_indices = [i for i,x in enumerate(D) if x == 'orange']\n",
    "yellow_indices = [i for i,x in enumerate(D) if x == 'yellow']\n",
    "green_indices = [i for i,x in enumerate(D) if x == 'green']"
   ]
  },
  {
   "cell_type": "code",
   "execution_count": 8,
   "metadata": {
    "scrolled": false
   },
   "outputs": [
    {
     "data": {
      "image/png": "[encoded data removed]",
      "text/plain": [
       "<Figure size 432x288 with 1 Axes>"
      ]
     },
     "metadata": {
      "needs_background": "light"
     },
     "output_type": "display_data"
    }
   ],
   "source": [
    "import numpy as np \n",
    "import matplotlib.pyplot as plt \n",
    "  \n",
    "X = ['Red','Orange','Yellow','Green']\n",
    "average_in_degree = [np.mean([A[i][1] for i in red_indices]), \n",
    "                     np.mean([A[i][1] for i in orange_indices]),\n",
    "                     np.mean([A[i][1] for i in yellow_indices]),\n",
    "                     np.mean([A[i][1] for i in green_indices])]\n",
    "  \n",
    "X_axis = np.arange(len(X))\n",
    "  \n",
    "plt.bar(X_axis, average_in_degree, 0.4, label = 'Cheese', color=['Red', \"Orange\", \"Yellow\", \"Green\"])\n",
    "  \n",
    "plt.xticks(X_axis, X)\n",
    "plt.xlabel(\"Importance\")\n",
    "plt.ylabel(\"Average in-degree\")\n",
    "plt.title(\"Importance of major characters\")\n",
    "plt.legend()\n",
    "plt.show()"
   ]
  },
  {
   "cell_type": "code",
   "execution_count": 9,
   "metadata": {},
   "outputs": [
    {
     "data": {
      "text/html": [
       "<div>\n",
       "<style scoped>\n",
       "    .dataframe tbody tr th:only-of-type {\n",
       "        vertical-align: middle;\n",
       "    }\n",
       "\n",
       "    .dataframe tbody tr th {\n",
       "        vertical-align: top;\n",
       "    }\n",
       "\n",
       "    .dataframe thead th {\n",
       "        text-align: right;\n",
       "    }\n",
       "</style>\n",
       "<table border=\"1\" class=\"dataframe\">\n",
       "  <thead>\n",
       "    <tr style=\"text-align: right;\">\n",
       "      <th></th>\n",
       "      <th>Name</th>\n",
       "      <th>In-degree</th>\n",
       "      <th>Importance</th>\n",
       "    </tr>\n",
       "  </thead>\n",
       "  <tbody>\n",
       "    <tr>\n",
       "      <th>0</th>\n",
       "      <td>Thrall</td>\n",
       "      <td>329</td>\n",
       "      <td>red</td>\n",
       "    </tr>\n",
       "    <tr>\n",
       "      <th>1</th>\n",
       "      <td>Sylvanas_Windrunner</td>\n",
       "      <td>267</td>\n",
       "      <td>red</td>\n",
       "    </tr>\n",
       "    <tr>\n",
       "      <th>2</th>\n",
       "      <td>Jaina_Proudmoore</td>\n",
       "      <td>263</td>\n",
       "      <td>red</td>\n",
       "    </tr>\n",
       "    <tr>\n",
       "      <th>3</th>\n",
       "      <td>Anduin_Wrynn</td>\n",
       "      <td>246</td>\n",
       "      <td>orange</td>\n",
       "    </tr>\n",
       "    <tr>\n",
       "      <th>4</th>\n",
       "      <td>Garrosh_Hellscream</td>\n",
       "      <td>231</td>\n",
       "      <td>red</td>\n",
       "    </tr>\n",
       "    <tr>\n",
       "      <th>...</th>\n",
       "      <td>...</td>\n",
       "      <td>...</td>\n",
       "      <td>...</td>\n",
       "    </tr>\n",
       "    <tr>\n",
       "      <th>267</th>\n",
       "      <td>Oculeth</td>\n",
       "      <td>4</td>\n",
       "      <td>green</td>\n",
       "    </tr>\n",
       "    <tr>\n",
       "      <th>268</th>\n",
       "      <td>K'ara</td>\n",
       "      <td>4</td>\n",
       "      <td>green</td>\n",
       "    </tr>\n",
       "    <tr>\n",
       "      <th>269</th>\n",
       "      <td>Kang</td>\n",
       "      <td>4</td>\n",
       "      <td>orange</td>\n",
       "    </tr>\n",
       "    <tr>\n",
       "      <th>270</th>\n",
       "      <td>King_Ymiron</td>\n",
       "      <td>4</td>\n",
       "      <td>green</td>\n",
       "    </tr>\n",
       "    <tr>\n",
       "      <th>271</th>\n",
       "      <td>Mekgineer_Thermaplugg</td>\n",
       "      <td>3</td>\n",
       "      <td>green</td>\n",
       "    </tr>\n",
       "  </tbody>\n",
       "</table>\n",
       "<p>272 rows × 3 columns</p>\n",
       "</div>"
      ],
      "text/plain": [
       "                      Name  In-degree Importance\n",
       "0                   Thrall        329        red\n",
       "1      Sylvanas_Windrunner        267        red\n",
       "2         Jaina_Proudmoore        263        red\n",
       "3             Anduin_Wrynn        246     orange\n",
       "4       Garrosh_Hellscream        231        red\n",
       "..                     ...        ...        ...\n",
       "267                Oculeth          4      green\n",
       "268                  K'ara          4      green\n",
       "269                   Kang          4     orange\n",
       "270            King_Ymiron          4      green\n",
       "271  Mekgineer_Thermaplugg          3      green\n",
       "\n",
       "[272 rows x 3 columns]"
      ]
     },
     "execution_count": 9,
     "metadata": {},
     "output_type": "execute_result"
    }
   ],
   "source": [
    "df_violin = sns.load_dataset(\"titanic\")\n",
    "df_violin = pd.DataFrame(list(zip(B, C, D)),\n",
    "               columns =['Name', 'In-degree', 'Importance'])\n",
    "df_violin"
   ]
  },
  {
   "cell_type": "code",
   "execution_count": 10,
   "metadata": {},
   "outputs": [
    {
     "data": {
      "image/png": "[encoded data removed]",
      "text/plain": [
       "<Figure size 720x432 with 1 Axes>"
      ]
     },
     "metadata": {},
     "output_type": "display_data"
    }
   ],
   "source": [
    "sns.set(rc={'figure.figsize':(10,6)})\n",
    "sns.set_theme(style=\"whitegrid\")\n",
    "ax = sns.violinplot(x='Importance',y='In-degree',palette=['red','orange', 'yellow','green'],data=df_violin)"
   ]
  },
  {
   "cell_type": "code",
   "execution_count": 11,
   "metadata": {},
   "outputs": [
    {
     "data": {
      "image/png": "[encoded data removed]",
      "text/plain": [
       "<Figure size 720x432 with 1 Axes>"
      ]
     },
     "metadata": {},
     "output_type": "display_data"
    }
   ],
   "source": [
    "sns.set(rc={'figure.figsize':(10,6)})\n",
    "sns.set_theme(style=\"whitegrid\")\n",
    "ax = sns.boxplot(x='Importance',y='In-degree',palette=['red','orange', 'yellow','green'],data=df_violin)"
   ]
  },
  {
   "cell_type": "code",
   "execution_count": null,
   "metadata": {},
   "outputs": [],
   "source": []
  }
 ],
 "metadata": {
  "kernelspec": {
   "display_name": "Python 3",
   "language": "python",
   "name": "python3"
  },
  "language_info": {
   "codemirror_mode": {
    "name": "ipython",
    "version": 3
   },
   "file_extension": ".py",
   "mimetype": "text/x-python",
   "name": "python",
   "nbconvert_exporter": "python",
   "pygments_lexer": "ipython3",
   "version": "3.8.5"
  }
 },
 "nbformat": 4,
 "nbformat_minor": 4
}
